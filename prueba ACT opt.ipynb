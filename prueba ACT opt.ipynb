{
 "cells": [
  {
   "cell_type": "code",
   "execution_count": 1,
   "metadata": {},
   "outputs": [],
   "source": [
    "import numpy as np\n",
    "import csv\n",
    "import matplotlib.pyplot as plt\n",
    "import astropy.constants as cte\n",
    "import astropy.units as un\n",
    "from astropy.cosmology import Planck15 as cosmo\n",
    "import emcee\n",
    "import scipy\n",
    "from scipy import optimize as op\n",
    "import corner\n",
    "import os\n",
    "from datetime import datetime"
   ]
  },
  {
   "cell_type": "code",
   "execution_count": 2,
   "metadata": {},
   "outputs": [],
   "source": [
    "os.environ[\"OMP_NUM_THREADS\"]=\"4\""
   ]
  },
  {
   "cell_type": "code",
   "execution_count": 3,
   "metadata": {},
   "outputs": [],
   "source": [
    "c=cte.c\n",
    "Msun=cte.M_sun"
   ]
  },
  {
   "cell_type": "code",
   "execution_count": 4,
   "metadata": {},
   "outputs": [
    {
     "name": "stdout",
     "output_type": "stream",
     "text": [
      "9\n",
      "9\n",
      "9\n",
      "9\n",
      "9\n",
      "9\n",
      "9\n",
      "9\n",
      "9\n"
     ]
    }
   ],
   "source": [
    "file = open(\"/Users/mariajesusfloresmoraga/Desktop/DSFG/T1 f2.csv\")\n",
    "csvreader = csv.reader(file)\n",
    "header = []\n",
    "header = next(csvreader)\n",
    "\n",
    "rows = []\n",
    "for row in csvreader:\n",
    "        rows.append(row)\n",
    "\n",
    "ID= []\n",
    "\n",
    "v1=[]\n",
    "ev1=[]\n",
    "\n",
    "v2=[]\n",
    "ev2=[]\n",
    "\n",
    "v3=[]\n",
    "ev3=[]\n",
    "\n",
    "l1=[]\n",
    "el1=[]\n",
    "\n",
    "l2=[]\n",
    "el2=[]\n",
    "\n",
    "l3=[]\n",
    "el3=[]\n",
    "\n",
    "\n",
    "for j in rows:\n",
    "    print(len(rows))\n",
    "    \n",
    "    ID.append(j[0])\n",
    "    \n",
    "    v1.append(float(j[3]))\n",
    "    ev1.append(float(j[4]))\n",
    "    v2.append(float(j[5]))\n",
    "    ev2.append(float(j[6]))\n",
    "    v3.append(float(j[7]))\n",
    "    ev3.append(float(j[8]))\n",
    "    l1.append(float(j[9]))\n",
    "    el1.append(float(j[10]))\n",
    "    l2.append(float(j[11]))\n",
    "    el2.append(float(j[12]))\n",
    "    l3.append(float(j[13]))\n",
    "    el3.append(float(j[14]))\n"
   ]
  },
  {
   "cell_type": "code",
   "execution_count": 5,
   "metadata": {},
   "outputs": [],
   "source": [
    "v_=[148,218,278]*un.GHz\n",
    "l__=[500,350,250]*un.um\n",
    "v=v_.to(\"Hz\").value\n",
    "l_=(c.to(\"um/s\"))/(np.array([500,350,250])*un.um)\n",
    "l=l_.to(\"Hz\").value\n",
    "vf=np.concatenate((v, l))"
   ]
  },
  {
   "cell_type": "code",
   "execution_count": 6,
   "metadata": {},
   "outputs": [
    {
     "name": "stdout",
     "output_type": "stream",
     "text": [
      "[ 148.        218.        278.        599.584916  856.54988  1199.169832] GHz\n"
     ]
    }
   ],
   "source": [
    "print((vf*un.Hz).to(\"GHz\"))"
   ]
  },
  {
   "cell_type": "code",
   "execution_count": 7,
   "metadata": {},
   "outputs": [],
   "source": [
    "def tau(z,M_,d_,vf): \n",
    "    vf=vf*un.Hz\n",
    "    d_=d_*un.kpc\n",
    "    v0=353*un.GHz\n",
    "    b=2\n",
    "    M=Msun * 10** M_\n",
    "    k0=0.15*(un.m**2/un.kg) \n",
    "    tau=k0*(vf/v0)**b *(z+1)**b * M/(np.pi*(d_/2)**2)\n",
    "    return tau.to(\"\")"
   ]
  },
  {
   "cell_type": "code",
   "execution_count": 8,
   "metadata": {},
   "outputs": [],
   "source": [
    "def P(vf,T,z):\n",
    "    vf=vf*un.Hz\n",
    "    T=T*un.K\n",
    "    h=cte.h\n",
    "    K=cte.k_B\n",
    "    A=2*h/(c**2)\n",
    "    a=(h*vf*(1+z)/(K*T))\n",
    "    B=vf**3/(np.e**(a.value) -1)\n",
    "    P=(A*B).to(\"mJy\")\n",
    "    return P"
   ]
  },
  {
   "cell_type": "code",
   "execution_count": 9,
   "metadata": {},
   "outputs": [],
   "source": [
    "def modelSv(vf,z,T,M_,d_):\n",
    "    \n",
    "    b=2\n",
    "    v0=353*un.GHz\n",
    "    D=cosmo.angular_diameter_distance(z)\n",
    "    M=Msun*(10**M_)\n",
    "    \n",
    "    TAU=tau(z,M_,d_,vf)\n",
    "    PL=P(vf,T,z)\n",
    "    \n",
    "    vf=vf*un.Hz\n",
    "    T=T*un.K\n",
    "    d_=d_*un.kpc\n",
    "    \n",
    "    O=np.pi*(d_/2)**2 * (D**-2)\n",
    "    \n",
    "    S_=O*(1-np.e**-TAU)*PL\n",
    "    S=S_.to(\"mJy\")\n",
    "    return S.value"
   ]
  },
  {
   "cell_type": "code",
   "execution_count": 10,
   "metadata": {},
   "outputs": [],
   "source": [
    "def A(z,Tc,M_,d_,vf): \n",
    "\n",
    "\n",
    "    v0=353*un.GHz\n",
    "    b=2\n",
    "    \n",
    "    Tc=Tc*un.K\n",
    "    Tvariable=(np.linspace(Tc.value,1000,10000)) *un.K\n",
    "    \n",
    "    integrales=[]\n",
    "    \n",
    "    for i in vf:\n",
    "        ARG = modelSv(i,z,Tvariable,M_,d_)*un.mJy *(Tvariable)**-7\n",
    "        integrales.append(scipy.integrate.trapz(ARG,x=Tvariable))\n",
    "    \n",
    "    return integrales"
   ]
  },
  {
   "cell_type": "code",
   "execution_count": 11,
   "metadata": {},
   "outputs": [],
   "source": [
    "def modelSobs(vf,z,Tc,M_,d_): #Como SPT no entrega Tc tomamos Tc= T-10]\n",
    "    \n",
    "    b=2\n",
    "    v0=353*un.GHz\n",
    "    D=cosmo.angular_diameter_distance(z)\n",
    "    TCMB=2.725*un.K\n",
    "    \n",
    "    INTEGRAL=A(z,Tc,M_,d_,vf)\n",
    "    TAU=tau(z,M_,d_,vf)\n",
    "    \n",
    "    h=cte.h\n",
    "    K=cte.k_B\n",
    "    vf=vf*un.Hz\n",
    "    d_=d_*un.kpc\n",
    "    Tc=Tc*un.K\n",
    "    O=np.pi*(d_/2)**2 * (D**-2)\n",
    "    model_=[]\n",
    "    for j in range(len(vf)):\n",
    "        M1=6 * Tc**6 * INTEGRAL[j]\n",
    "    \n",
    "        M2=O * np.e**-TAU * (2*h)/(c**2) * (vf[j]**3)/(np.e**(h*vf[j]/(K*TCMB))-1)\n",
    "        model_.append(((M1+M2)[0]).value)\n",
    "        \n",
    "    model=model_*un.mJy\n",
    "\n",
    "    return model.value"
   ]
  },
  {
   "cell_type": "code",
   "execution_count": 12,
   "metadata": {},
   "outputs": [],
   "source": [
    "frecsT_l=[]\n",
    "errfT_l=[]\n",
    "for m in range (len(rows)-1):\n",
    "    frec=[v1[m],v2[m],v3[m],l1[m],l2[m],l3[m]]\n",
    "    errf=[ev1[m],ev2[m],ev3[m],el1[m],el2[m],el3[m]]\n",
    "    frecsT_l.append(frec)\n",
    "    errfT_l.append(errf)\n",
    "    "
   ]
  },
  {
   "cell_type": "code",
   "execution_count": 13,
   "metadata": {},
   "outputs": [],
   "source": [
    "frecs1T=[v1[1],v2[1],v3[1],l1[1],l2[1],l3[1]]\n",
    "errf1T=[ev1[1],ev2[1],ev3[1],el1[1],el2[1],el3[1]]"
   ]
  },
  {
   "cell_type": "code",
   "execution_count": 14,
   "metadata": {},
   "outputs": [
    {
     "data": {
      "text/plain": [
       "[5.54, 26.02, 0.0, 116.35, 104.05, 62.67]"
      ]
     },
     "execution_count": 14,
     "metadata": {},
     "output_type": "execute_result"
    }
   ],
   "source": [
    "frecs1T"
   ]
  },
  {
   "cell_type": "code",
   "execution_count": 15,
   "metadata": {},
   "outputs": [
    {
     "name": "stdout",
     "output_type": "stream",
     "text": [
      "2\n",
      "[1.48000000e+11 2.18000000e+11 5.99584916e+11 8.56549880e+11\n",
      " 1.19916983e+12]\n"
     ]
    }
   ],
   "source": [
    "for h in frecs1T:\n",
    "    if h==0 or h==\"NaN\":\n",
    "        print(frecs1T.index(h))\n",
    "        np.delete(vf,frecs1T.index(h))\n",
    "        print(np.delete(vf,frecs1T.index(h)))"
   ]
  },
  {
   "cell_type": "code",
   "execution_count": 16,
   "metadata": {},
   "outputs": [],
   "source": [
    "def ml():\n",
    "    \n",
    "    x = np.linspace(100,2000,100)*un.GHz\n",
    "    x = x.to(\"Hz\")\n",
    "    x = x.value\n",
    "    \n",
    "    LT_S=[]\n",
    "    \n",
    "    LT_PLnolim=[]\n",
    "    \n",
    "    LT_PLlim=[]\n",
    "    \n",
    "    \n",
    "    for j in frecsT_l:\n",
    "       \n",
    "        popt,pconv = scipy.optimize.curve_fit(modelSv,vf,j,[3.,50.,10.,4.],bounds=([1,10,8,2],[10,100,11,4])) \n",
    "    \n",
    "        z_fit,T_fit,M_fit,d_fit = popt\n",
    "    \n",
    "\n",
    "        pm = [z_fit,T_fit,M_fit,d_fit]\n",
    "\n",
    "        y = modelSv(x,pm[0],pm[1],pm[2],pm[3])\n",
    "                 \n",
    "        L= [ID[frecsT_l.index(j)],z_fit,T_fit,M_fit,d_fit]\n",
    "        \n",
    "        LT_S.append(L)\n",
    "            \n",
    "\n",
    "        \n",
    "    for j in frecsT_l:\n",
    "       \n",
    "        popt,pconv = scipy.optimize.curve_fit(modelSobs,vf,j,[3.,50.,10.,4.],bounds=([1,10,8,2],[10,100,11,4])) \n",
    "    \n",
    "        z_fit,T_fit,M_fit,d_fit = popt\n",
    "    \n",
    "\n",
    "        pm = [z_fit,T_fit,M_fit,d_fit]\n",
    "\n",
    "        y = modelSv(x,pm[0],pm[1],pm[2],pm[3])\n",
    "                 \n",
    "        L= [ID[frecsT_l.index(j)],z_fit,T_fit,M_fit,d_fit]\n",
    "        \n",
    "        LT_PLnolim.append(L)\n",
    "        \n",
    "        \n",
    "    for j in frecsT_l:\n",
    "       \n",
    "        popt,pconv = scipy.optimize.curve_fit(modelSobs,vf,j,[3.,35.,10.,4.],bounds=([1,20,8,2],[10,50,11,4])) \n",
    "    \n",
    "        z_fit,T_fit,M_fit,d_fit = popt\n",
    "    \n",
    "\n",
    "        pm = [z_fit,T_fit,M_fit,d_fit]\n",
    "\n",
    "        y = modelSv(x,pm[0],pm[1],pm[2],pm[3])\n",
    "                 \n",
    "        L= [ID[frecsT_l.index(j)],z_fit,T_fit,M_fit,d_fit]\n",
    "        \n",
    "        LT_PLlim.append(L)\n",
    "    \n",
    "    z=[]\n",
    "    T=[]\n",
    "    M=[]\n",
    "    d=[]\n",
    "        \n",
    "    for a,b,c in zip(LT_S,LT_PLnolim,LT_PLlim):\n",
    "        z_=[]\n",
    "        z_.append(a[0]) #para el nombre\n",
    "        z_.append(a[1])\n",
    "        z_.append(b[1])\n",
    "        z_.append(c[1])\n",
    "        z.append(z_)\n",
    "        \n",
    "        T_=[]\n",
    "        T_.append(a[0]) #para el nombre\n",
    "        T_.append(a[2])\n",
    "        T_.append(b[2])\n",
    "        T_.append(c[2])\n",
    "        T.append(T_) \n",
    "        \n",
    "        M_=[]\n",
    "        M_.append(a[0]) #para el nombre\n",
    "        M_.append(a[3])\n",
    "        M_.append(b[3])\n",
    "        M_.append(c[3])\n",
    "        M.append(M_) \n",
    "        \n",
    "        d_=[]     \n",
    "        d_.append(a[0]) #para el nombre\n",
    "        d_.append(a[3])\n",
    "        d_.append(b[3])\n",
    "        d_.append(c[3])\n",
    "        d.append(d_) \n",
    "        \n",
    "    #if interes==\"z\":  \n",
    "        #return  z  \n",
    "    #if interes==\"T\":  \n",
    "        #return  T \n",
    "    #if interes==\"M\":  \n",
    "        #return  M \n",
    "    #if interes==\"d\":  \n",
    "        #return  d \n",
    "                \n",
    "    return   (LT_S, LT_PLnolim,LT_PLlim) "
   ]
  },
  {
   "cell_type": "code",
   "execution_count": 17,
   "metadata": {},
   "outputs": [
    {
     "data": {
      "text/plain": [
       "([['ACT-S J0011-0018',\n",
       "   2.118775374239995,\n",
       "   44.408370978138635,\n",
       "   9.686458544024118,\n",
       "   2.841712920271191],\n",
       "  ['ACT-S J0022-0155',\n",
       "   5.316410409367984,\n",
       "   63.237703362896724,\n",
       "   8.692939271917625,\n",
       "   3.965938861365047],\n",
       "  ['ACT-S J0038_0022',\n",
       "   3.176385700653448,\n",
       "   47.778010402921275,\n",
       "   9.560129049660782,\n",
       "   3.8113111833970055],\n",
       "  ['ACT-S J0039+0024',\n",
       "   2.347650711948744,\n",
       "   45.93188243677826,\n",
       "   9.632885785560108,\n",
       "   3.6150126299426844],\n",
       "  ['ACT-S J0044+0118',\n",
       "   5.220141899748941,\n",
       "   68.7466021860735,\n",
       "   9.306656587762628,\n",
       "   3.999887492235874],\n",
       "  ['ACT-S J0045_0001',\n",
       "   3.371050014513769,\n",
       "   46.494132028946794,\n",
       "   9.686202035154066,\n",
       "   3.6769879593724135],\n",
       "  ['ACT-S J0107+0001',\n",
       "   3.01617366428992,\n",
       "   44.90201427611956,\n",
       "   9.43802330409738,\n",
       "   3.429981695754708],\n",
       "  ['ACT-S J0116_0004',\n",
       "   4.093064533506577,\n",
       "   62.22426974235668,\n",
       "   9.225878907762079,\n",
       "   3.9980963184304583]],\n",
       " [['ACT-S J0011-0018',\n",
       "   6.73663999899575,\n",
       "   84.38526809683152,\n",
       "   8.509948136345745,\n",
       "   2.000000036002027],\n",
       "  ['ACT-S J0022-0155',\n",
       "   6.994325548657591,\n",
       "   58.85075169775476,\n",
       "   8.480325866896308,\n",
       "   3.9845434257973102],\n",
       "  ['ACT-S J0038_0022',\n",
       "   9.999999600990824,\n",
       "   91.2813807852181,\n",
       "   8.215659698281153,\n",
       "   2.524185091050395],\n",
       "  ['ACT-S J0039+0024',\n",
       "   2.4997200033572207,\n",
       "   36.30130188444928,\n",
       "   9.62266086943589,\n",
       "   3.9999896906463954],\n",
       "  ['ACT-S J0044+0118',\n",
       "   7.260387112609745,\n",
       "   66.28039676510667,\n",
       "   8.929401011274445,\n",
       "   3.9999999839622955],\n",
       "  ['ACT-S J0045_0001',\n",
       "   9.999999061230115,\n",
       "   85.16978951427228,\n",
       "   8.394508092980399,\n",
       "   2.457892233533694],\n",
       "  ['ACT-S J0107+0001',\n",
       "   9.99999999995909,\n",
       "   72.44220340518035,\n",
       "   8.044560122063496,\n",
       "   3.7022031430057347],\n",
       "  ['ACT-S J0116_0004',\n",
       "   9.999999518920013,\n",
       "   96.50070604835162,\n",
       "   8.160350047343606,\n",
       "   2.989238974736405]],\n",
       " [['ACT-S J0011-0018',\n",
       "   3.5798894581141822,\n",
       "   49.953090943668634,\n",
       "   9.232023631606392,\n",
       "   2.71876186262176],\n",
       "  ['ACT-S J0022-0155',\n",
       "   5.390858165679163,\n",
       "   49.99999999999999,\n",
       "   8.770042954444836,\n",
       "   3.9999999999999996],\n",
       "  ['ACT-S J0038_0022',\n",
       "   5.025831594037363,\n",
       "   49.99960680631408,\n",
       "   9.09502289071367,\n",
       "   3.8060938616688684],\n",
       "  ['ACT-S J0039+0024',\n",
       "   2.506372182130656,\n",
       "   36.370154350246544,\n",
       "   9.620496442400087,\n",
       "   3.9976945718994785],\n",
       "  ['ACT-S J0044+0118',\n",
       "   4.397022184326645,\n",
       "   49.99999999999999,\n",
       "   9.534585403793276,\n",
       "   3.9999999999999996],\n",
       "  ['ACT-S J0045_0001',\n",
       "   5.458003485523108,\n",
       "   49.999299380572275,\n",
       "   9.177159325560375,\n",
       "   3.5532630618661654],\n",
       "  ['ACT-S J0107+0001',\n",
       "   5.901425170296885,\n",
       "   49.99999999996445,\n",
       "   8.69977456540916,\n",
       "   3.9999999998826468],\n",
       "  ['ACT-S J0116_0004',\n",
       "   4.093967258881111,\n",
       "   49.99999999999999,\n",
       "   9.281943996534098,\n",
       "   3.9999999999999996]])"
      ]
     },
     "execution_count": 17,
     "metadata": {},
     "output_type": "execute_result"
    }
   ],
   "source": [
    "ml()"
   ]
  },
  {
   "cell_type": "code",
   "execution_count": 18,
   "metadata": {},
   "outputs": [
    {
     "name": "stdout",
     "output_type": "stream",
     "text": [
      "0\n",
      "[2.118775374239995, 44.408370978138635, 9.686458544024118, 2.841712920271191]\n",
      "1\n",
      "[5.316410409367984, 63.237703362896724, 8.692939271917625, 3.965938861365047]\n",
      "2\n",
      "[3.176385700653448, 47.778010402921275, 9.560129049660782, 3.8113111833970055]\n",
      "3\n",
      "[2.347650711948744, 45.93188243677826, 9.632885785560108, 3.6150126299426844]\n",
      "4\n",
      "[5.220141899748941, 68.7466021860735, 9.306656587762628, 3.999887492235874]\n",
      "5\n",
      "[3.371050014513769, 46.494132028946794, 9.686202035154066, 3.6769879593724135]\n",
      "6\n",
      "[3.01617366428992, 44.90201427611956, 9.43802330409738, 3.429981695754708]\n",
      "7\n",
      "[4.093064533506577, 62.22426974235668, 9.225878907762079, 3.9980963184304583]\n"
     ]
    }
   ],
   "source": [
    "params=[]\n",
    "\n",
    "for j in range(len(frecsT_l)): #j indica numero de galaxia\n",
    "        print(j)\n",
    "    \n",
    "        theta=[ml()[0][j][1],ml()[0][j][2],ml()[0][j][3],ml()[0][j][4]] \n",
    "        \n",
    "        params.append(theta)\n",
    "    \n",
    "    \n",
    "        print(params[j])\n",
    "        "
   ]
  },
  {
   "cell_type": "code",
   "execution_count": 19,
   "metadata": {},
   "outputs": [],
   "source": [
    "def lnlike(theta,x,y,yerr,model):\n",
    "    z,T,M_,d_ = theta\n",
    "    y=np.array(y)\n",
    "    yerr=np.array(yerr)\n",
    "    Sv = modelSv(x,z,T,M_,d_)\n",
    "    Sobs = modelSobs(x,z,T,M_,d_)\n",
    "    x = x*un.Hz\n",
    "    if model==\"S\": \n",
    "        inv_sigma2 = 1.0 / (yerr**2 + (Sv)**2 * np.exp(2*-1))\n",
    "        lnlike= -0.5 * np.sum((y-(Sv))**2*inv_sigma2 - np.log(inv_sigma2))\n",
    "    else: \n",
    "        inv_sigma2 = 1.0 / (yerr**2 + (Sobs)**2 * np.exp(2*-1))\n",
    "        lnlike= -0.5 * np.sum((y-(Sobs))**2*inv_sigma2 - np.log(inv_sigma2))\n",
    "        \n",
    "    return lnlike"
   ]
  },
  {
   "cell_type": "code",
   "execution_count": 20,
   "metadata": {},
   "outputs": [],
   "source": [
    "def lnprior(theta,model):\n",
    "    z,T,M,d = theta\n",
    "    if T>0 and z>0 and M>0 and d>0:\n",
    "        #pM= -1 * (M - 9.4)**2 / (0.24 *10**2) #prior M (sacado de Su)\n",
    "        #pZ= -1 * (z - 3)**2 / (1 * 10**2) #prior Z \n",
    "        #pd= -1 * (d - 4)**2 / (2 * 10**2) #prior T\n",
    "        if model==\"S\":\n",
    "            pT= -1 * (T - 55)**2 / (10 * 10**2) #prior T\n",
    "        if model==\"PL nolim\":\n",
    "            pT= -1 * (T - 55)**2 / (10 * 10**2) #prior Tc (como Tc=T-10, automaticamente restamos 10)\n",
    "        if model==\"PL lim\":\n",
    "            pT= -1 * ((T-10) - 35)**2 / (5 * 10**2) #prior Tc\n",
    "        return pT #pM+pZ+pd+pT\n",
    "    return -np.inf"
   ]
  },
  {
   "cell_type": "code",
   "execution_count": 21,
   "metadata": {},
   "outputs": [],
   "source": [
    "def lnprob(theta, x, y, yerr,model):\n",
    "    lp = lnprior(theta,model)\n",
    "    if not(np.isfinite(lp)):\n",
    "        return -np.inf\n",
    "    return lp + lnlike(theta, x, y, yerr,model)"
   ]
  },
  {
   "cell_type": "code",
   "execution_count": 22,
   "metadata": {},
   "outputs": [],
   "source": [
    "def mcmc_S(model): #recibe con unidades\n",
    "    \n",
    "    x = np.linspace(90,2000,100)*un.GHz\n",
    "    x = x.to(\"Hz\")\n",
    "    x = x.value\n",
    "    \n",
    "    params=[]\n",
    "\n",
    "    for j in range(len(frecsT_l)-1):\n",
    "        for (x,y) in zip(frecsT_l,errfT_l): #j indica numero de galaxia\n",
    "    \n",
    "            theta=[ml()[0][j][1],ml()[0][j][2],ml()[0][j][3],ml()[0][j][4]] \n",
    "        \n",
    "            params.append(theta)\n",
    "    \n",
    "    \n",
    "            plt.figure(figsize=(12,9))\n",
    "\n",
    "\n",
    "        \n",
    "            pm = params[j]\n",
    "\n",
    "            y  = modelSv(x,pm[0],pm[1],pm[2],pm[3])\n",
    "\n",
    "            ndim, nwalkers = 4, 15 # 15 iteraciones, solo por tiempo, luego serán 1500\n",
    "            pos = [theta + 1e-3 * np.random.randn(ndim) for i in range(nwalkers)] \n",
    "\n",
    "    \n",
    "            sampler = emcee.EnsembleSampler(nwalkers, ndim, lnprob ,args=(vf,np.array(x),np.array(y),model),\n",
    "                                threads=4)\n",
    "            sampler.run_mcmc(pos, 10) #10 chains, por ahora...\n",
    "            samples = sampler.chain[:, 9:, :].reshape((-1, ndim))\n",
    "    \n",
    "            fig = corner.corner(samples,\n",
    "                    labels=[\"z\", \"T\", r\"$M$\", r\"$d$\"],\n",
    "                    quantiles=[0.16, 0.5, 0.84],\n",
    "                    show_titles=True,\n",
    "                    truths=[ml()[0][j][1],ml()[0][j][2],ml()[0][j][3],ml()[0][j][4]])"
   ]
  },
  {
   "cell_type": "code",
   "execution_count": 23,
   "metadata": {},
   "outputs": [
    {
     "name": "stderr",
     "output_type": "stream",
     "text": [
      "WARNING:root:Too few points to create valid contours\n",
      "WARNING:root:Too few points to create valid contours\n",
      "WARNING:root:Too few points to create valid contours\n",
      "WARNING:root:Too few points to create valid contours\n",
      "WARNING:root:Too few points to create valid contours\n",
      "WARNING:root:Too few points to create valid contours\n",
      "/opt/anaconda3/lib/python3.7/site-packages/astropy/units/quantity.py:481: RuntimeWarning: invalid value encountered in true_divide\n",
      "  result = super().__array_ufunc__(function, method, *arrays, **kwargs)\n"
     ]
    },
    {
     "ename": "ValueError",
     "evalue": "Probability function returned NaN",
     "output_type": "error",
     "traceback": [
      "\u001b[0;31m---------------------------------------------------------------------------\u001b[0m",
      "\u001b[0;31mValueError\u001b[0m                                Traceback (most recent call last)",
      "\u001b[0;32m<ipython-input-23-d9cc1d54474b>\u001b[0m in \u001b[0;36m<module>\u001b[0;34m\u001b[0m\n\u001b[1;32m      1\u001b[0m \u001b[0mstartTime\u001b[0m\u001b[0;34m=\u001b[0m\u001b[0mdatetime\u001b[0m\u001b[0;34m.\u001b[0m\u001b[0mnow\u001b[0m\u001b[0;34m(\u001b[0m\u001b[0;34m)\u001b[0m\u001b[0;34m\u001b[0m\u001b[0;34m\u001b[0m\u001b[0m\n\u001b[0;32m----> 2\u001b[0;31m \u001b[0mmcmc_S\u001b[0m\u001b[0;34m(\u001b[0m\u001b[0;34m\"S\"\u001b[0m\u001b[0;34m)\u001b[0m\u001b[0;34m\u001b[0m\u001b[0;34m\u001b[0m\u001b[0m\n\u001b[0m\u001b[1;32m      3\u001b[0m \u001b[0mprint\u001b[0m\u001b[0;34m(\u001b[0m\u001b[0mdatetime\u001b[0m\u001b[0;34m.\u001b[0m\u001b[0mnow\u001b[0m\u001b[0;34m(\u001b[0m\u001b[0;34m)\u001b[0m\u001b[0;34m-\u001b[0m\u001b[0mstartTime\u001b[0m\u001b[0;34m)\u001b[0m\u001b[0;34m\u001b[0m\u001b[0;34m\u001b[0m\u001b[0m\n",
      "\u001b[0;32m<ipython-input-22-9f15ca3d3660>\u001b[0m in \u001b[0;36mmcmc_S\u001b[0;34m(model)\u001b[0m\n\u001b[1;32m     29\u001b[0m             sampler = emcee.EnsembleSampler(nwalkers, ndim, lnprob ,args=(vf,np.array(x),np.array(y),model),\n\u001b[1;32m     30\u001b[0m                                 threads=4)\n\u001b[0;32m---> 31\u001b[0;31m             \u001b[0msampler\u001b[0m\u001b[0;34m.\u001b[0m\u001b[0mrun_mcmc\u001b[0m\u001b[0;34m(\u001b[0m\u001b[0mpos\u001b[0m\u001b[0;34m,\u001b[0m \u001b[0;36m10\u001b[0m\u001b[0;34m)\u001b[0m \u001b[0;31m#16 chains\u001b[0m\u001b[0;34m\u001b[0m\u001b[0;34m\u001b[0m\u001b[0m\n\u001b[0m\u001b[1;32m     32\u001b[0m             \u001b[0msamples\u001b[0m \u001b[0;34m=\u001b[0m \u001b[0msampler\u001b[0m\u001b[0;34m.\u001b[0m\u001b[0mchain\u001b[0m\u001b[0;34m[\u001b[0m\u001b[0;34m:\u001b[0m\u001b[0;34m,\u001b[0m \u001b[0;36m9\u001b[0m\u001b[0;34m:\u001b[0m\u001b[0;34m,\u001b[0m \u001b[0;34m:\u001b[0m\u001b[0;34m]\u001b[0m\u001b[0;34m.\u001b[0m\u001b[0mreshape\u001b[0m\u001b[0;34m(\u001b[0m\u001b[0;34m(\u001b[0m\u001b[0;34m-\u001b[0m\u001b[0;36m1\u001b[0m\u001b[0;34m,\u001b[0m \u001b[0mndim\u001b[0m\u001b[0;34m)\u001b[0m\u001b[0;34m)\u001b[0m\u001b[0;34m\u001b[0m\u001b[0;34m\u001b[0m\u001b[0m\n\u001b[1;32m     33\u001b[0m \u001b[0;34m\u001b[0m\u001b[0m\n",
      "\u001b[0;32m/opt/anaconda3/lib/python3.7/site-packages/emcee/ensemble.py\u001b[0m in \u001b[0;36mrun_mcmc\u001b[0;34m(self, initial_state, nsteps, **kwargs)\u001b[0m\n\u001b[1;32m    441\u001b[0m \u001b[0;34m\u001b[0m\u001b[0m\n\u001b[1;32m    442\u001b[0m         \u001b[0mresults\u001b[0m \u001b[0;34m=\u001b[0m \u001b[0;32mNone\u001b[0m\u001b[0;34m\u001b[0m\u001b[0;34m\u001b[0m\u001b[0m\n\u001b[0;32m--> 443\u001b[0;31m         \u001b[0;32mfor\u001b[0m \u001b[0mresults\u001b[0m \u001b[0;32min\u001b[0m \u001b[0mself\u001b[0m\u001b[0;34m.\u001b[0m\u001b[0msample\u001b[0m\u001b[0;34m(\u001b[0m\u001b[0minitial_state\u001b[0m\u001b[0;34m,\u001b[0m \u001b[0miterations\u001b[0m\u001b[0;34m=\u001b[0m\u001b[0mnsteps\u001b[0m\u001b[0;34m,\u001b[0m \u001b[0;34m**\u001b[0m\u001b[0mkwargs\u001b[0m\u001b[0;34m)\u001b[0m\u001b[0;34m:\u001b[0m\u001b[0;34m\u001b[0m\u001b[0;34m\u001b[0m\u001b[0m\n\u001b[0m\u001b[1;32m    444\u001b[0m             \u001b[0;32mpass\u001b[0m\u001b[0;34m\u001b[0m\u001b[0;34m\u001b[0m\u001b[0m\n\u001b[1;32m    445\u001b[0m \u001b[0;34m\u001b[0m\u001b[0m\n",
      "\u001b[0;32m/opt/anaconda3/lib/python3.7/site-packages/emcee/ensemble.py\u001b[0m in \u001b[0;36msample\u001b[0;34m(self, initial_state, log_prob0, rstate0, blobs0, iterations, tune, skip_initial_state_check, thin_by, thin, store, progress, progress_kwargs)\u001b[0m\n\u001b[1;32m    342\u001b[0m             \u001b[0mstate\u001b[0m\u001b[0;34m.\u001b[0m\u001b[0mblobs\u001b[0m \u001b[0;34m=\u001b[0m \u001b[0mblobs0\u001b[0m\u001b[0;34m\u001b[0m\u001b[0;34m\u001b[0m\u001b[0m\n\u001b[1;32m    343\u001b[0m         \u001b[0;32mif\u001b[0m \u001b[0mstate\u001b[0m\u001b[0;34m.\u001b[0m\u001b[0mlog_prob\u001b[0m \u001b[0;32mis\u001b[0m \u001b[0;32mNone\u001b[0m\u001b[0;34m:\u001b[0m\u001b[0;34m\u001b[0m\u001b[0;34m\u001b[0m\u001b[0m\n\u001b[0;32m--> 344\u001b[0;31m             \u001b[0mstate\u001b[0m\u001b[0;34m.\u001b[0m\u001b[0mlog_prob\u001b[0m\u001b[0;34m,\u001b[0m \u001b[0mstate\u001b[0m\u001b[0;34m.\u001b[0m\u001b[0mblobs\u001b[0m \u001b[0;34m=\u001b[0m \u001b[0mself\u001b[0m\u001b[0;34m.\u001b[0m\u001b[0mcompute_log_prob\u001b[0m\u001b[0;34m(\u001b[0m\u001b[0mstate\u001b[0m\u001b[0;34m.\u001b[0m\u001b[0mcoords\u001b[0m\u001b[0;34m)\u001b[0m\u001b[0;34m\u001b[0m\u001b[0;34m\u001b[0m\u001b[0m\n\u001b[0m\u001b[1;32m    345\u001b[0m         \u001b[0;32mif\u001b[0m \u001b[0mnp\u001b[0m\u001b[0;34m.\u001b[0m\u001b[0mshape\u001b[0m\u001b[0;34m(\u001b[0m\u001b[0mstate\u001b[0m\u001b[0;34m.\u001b[0m\u001b[0mlog_prob\u001b[0m\u001b[0;34m)\u001b[0m \u001b[0;34m!=\u001b[0m \u001b[0;34m(\u001b[0m\u001b[0mself\u001b[0m\u001b[0;34m.\u001b[0m\u001b[0mnwalkers\u001b[0m\u001b[0;34m,\u001b[0m\u001b[0;34m)\u001b[0m\u001b[0;34m:\u001b[0m\u001b[0;34m\u001b[0m\u001b[0;34m\u001b[0m\u001b[0m\n\u001b[1;32m    346\u001b[0m             \u001b[0;32mraise\u001b[0m \u001b[0mValueError\u001b[0m\u001b[0;34m(\u001b[0m\u001b[0;34m\"incompatible input dimensions\"\u001b[0m\u001b[0;34m)\u001b[0m\u001b[0;34m\u001b[0m\u001b[0;34m\u001b[0m\u001b[0m\n",
      "\u001b[0;32m/opt/anaconda3/lib/python3.7/site-packages/emcee/ensemble.py\u001b[0m in \u001b[0;36mcompute_log_prob\u001b[0;34m(self, coords)\u001b[0m\n\u001b[1;32m    533\u001b[0m         \u001b[0;31m# Check for log_prob returning NaN.\u001b[0m\u001b[0;34m\u001b[0m\u001b[0;34m\u001b[0m\u001b[0;34m\u001b[0m\u001b[0m\n\u001b[1;32m    534\u001b[0m         \u001b[0;32mif\u001b[0m \u001b[0mnp\u001b[0m\u001b[0;34m.\u001b[0m\u001b[0many\u001b[0m\u001b[0;34m(\u001b[0m\u001b[0mnp\u001b[0m\u001b[0;34m.\u001b[0m\u001b[0misnan\u001b[0m\u001b[0;34m(\u001b[0m\u001b[0mlog_prob\u001b[0m\u001b[0;34m)\u001b[0m\u001b[0;34m)\u001b[0m\u001b[0;34m:\u001b[0m\u001b[0;34m\u001b[0m\u001b[0;34m\u001b[0m\u001b[0m\n\u001b[0;32m--> 535\u001b[0;31m             \u001b[0;32mraise\u001b[0m \u001b[0mValueError\u001b[0m\u001b[0;34m(\u001b[0m\u001b[0;34m\"Probability function returned NaN\"\u001b[0m\u001b[0;34m)\u001b[0m\u001b[0;34m\u001b[0m\u001b[0;34m\u001b[0m\u001b[0m\n\u001b[0m\u001b[1;32m    536\u001b[0m \u001b[0;34m\u001b[0m\u001b[0m\n\u001b[1;32m    537\u001b[0m         \u001b[0;32mreturn\u001b[0m \u001b[0mlog_prob\u001b[0m\u001b[0;34m,\u001b[0m \u001b[0mblob\u001b[0m\u001b[0;34m\u001b[0m\u001b[0;34m\u001b[0m\u001b[0m\n",
      "\u001b[0;31mValueError\u001b[0m: Probability function returned NaN"
     ]
    },
    {
     "data": {
      "text/plain": [
       "<Figure size 864x648 with 0 Axes>"
      ]
     },
     "metadata": {},
     "output_type": "display_data"
    },
    {
     "data": {
      "image/png": "[encoded data removed]",
      "text/plain": [
       "<Figure size 698.4x698.4 with 16 Axes>"
      ]
     },
     "metadata": {
      "needs_background": "light"
     },
     "output_type": "display_data"
    },
    {
     "data": {
      "text/plain": [
       "<Figure size 864x648 with 0 Axes>"
      ]
     },
     "metadata": {},
     "output_type": "display_data"
    }
   ],
   "source": [
    "startTime=datetime.now()\n",
    "mcmc_S(\"S\")\n",
    "print(datetime.now()-startTime) "
   ]
  },
  {
   "cell_type": "code",
   "execution_count": null,
   "metadata": {},
   "outputs": [],
   "source": [
    "def mcmc_PLnolim(ID,frecsT,errfT): #recibe con unidades\n",
    "    \n",
    "    x = np.linspace(90,2000,100)*un.GHz\n",
    "    x = x.to(\"Hz\")\n",
    "    x = x.value\n",
    "    \n",
    "    theta,pconv = scipy.optimize.curve_fit(modelSobs,vf,frecsT,[3.,50.,10.,4.],bounds=([1,10,8,2],[10,100,11,4]))\n",
    "    \n",
    "    z_fit,T_fit,M_fit,d_fit = theta\n",
    "    \n",
    "    \n",
    "    \n",
    "    plt.figure(figsize=(12,9))\n",
    "\n",
    "\n",
    "        \n",
    "    pm = [z_fit,T_fit,M_fit,d_fit]\n",
    "\n",
    "    y  = modelSobs(x,pm[0],pm[1],pm[2],pm[3])\n",
    "\n",
    "    ndim, nwalkers = 4, 1500 # 6000 iteraciones\n",
    "    pos = [theta + 1e-3 * np.random.randn(ndim) for i in range(nwalkers)] \n",
    "    \n",
    "    sampler = emcee.EnsembleSampler(nwalkers, ndim, lnprob ,args=(vf,np.array(frecsT),np.array(errfT),model),\n",
    "                                threads=2)\n",
    "    sampler.run_mcmc(pos, 100) #16 chains\n",
    "    samples = sampler.chain[:, 90:, :].reshape((-1, ndim))\n",
    "    \n",
    "    fig = corner.corner(samples,\n",
    "                    labels=[\"z\", \"T\", r\"$M$\", r\"$d$\"],\n",
    "                    quantiles=[0.16, 0.5, 0.84],\n",
    "                    show_titles=True,\n",
    "                    truths=[z_fit,T_fit,M_fit,d_fit])"
   ]
  },
  {
   "cell_type": "code",
   "execution_count": null,
   "metadata": {},
   "outputs": [],
   "source": [
    "def mcmc_PLlim(ID,frecsT,errfT): #recibe con unidades\n",
    "    \n",
    "    x = np.linspace(90,2000,100)*un.GHz\n",
    "    x = x.to(\"Hz\")\n",
    "    x = x.value\n",
    "    \n",
    "    theta,pconv = scipy.optimize.curve_fit(modelSobs,vf,frecsT,[3.,35.,10.,4.],bounds=([1,20,8,2],[10,50,11,4]))\n",
    "    \n",
    "    z_fit,T_fit,M_fit,d_fit = theta\n",
    "    \n",
    "    \n",
    "    plt.figure(figsize=(12,9))\n",
    "\n",
    "\n",
    "        \n",
    "    pm = [z_fit,T_fit,M_fit,d_fit]\n",
    "\n",
    "    y  = modelSobs(x,pm[0],pm[1],pm[2],pm[3])\n",
    "\n",
    "    ndim, nwalkers = 4, 1500 # 6000 iteraciones\n",
    "    pos = [theta + 1e-3 * np.random.randn(ndim) for i in range(nwalkers)] \n",
    "    \n",
    "    sampler = emcee.EnsembleSampler(nwalkers, ndim, lnprob ,args=(vf,np.array(frecsT),np.array(errfT),model),\n",
    "                                threads=2)\n",
    "    sampler.run_mcmc(pos, 100) #16 chains\n",
    "    samples = sampler.chain[:, 90:, :].reshape((-1, ndim))\n",
    "    \n",
    "    fig = corner.corner(samples,\n",
    "                    labels=[\"z\", \"T\", r\"$M$\", r\"$d$\"],\n",
    "                    quantiles=[0.16, 0.5, 0.84],\n",
    "                    show_titles=True,\n",
    "                    truths=[z_fit,T_fit,M_fit,d_fit])"
   ]
  },
  {
   "cell_type": "code",
   "execution_count": null,
   "metadata": {},
   "outputs": [],
   "source": []
  }
 ],
 "metadata": {
  "kernelspec": {
   "display_name": "Python 3",
   "language": "python",
   "name": "python3"
  },
  "language_info": {
   "codemirror_mode": {
    "name": "ipython",
    "version": 3
   },
   "file_extension": ".py",
   "mimetype": "text/x-python",
   "name": "python",
   "nbconvert_exporter": "python",
   "pygments_lexer": "ipython3",
   "version": "3.7.6"
  }
 },
 "nbformat": 4,
 "nbformat_minor": 4
}
