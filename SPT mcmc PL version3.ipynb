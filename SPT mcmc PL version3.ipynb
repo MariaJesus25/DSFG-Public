{
 "cells": [
  {
   "cell_type": "code",
   "execution_count": 1,
   "metadata": {},
   "outputs": [],
   "source": [
    "import numpy as np\n",
    "import csv\n",
    "import matplotlib.pyplot as plt\n",
    "import astropy.constants as cte\n",
    "import astropy.units as un\n",
    "import astropy.cosmology\n",
    "from astropy.cosmology import Planck15 as cosmo\n",
    "import emcee\n",
    "import scipy.optimize as op\n",
    "import corner\n",
    "import scipy"
   ]
  },
  {
   "cell_type": "code",
   "execution_count": 2,
   "metadata": {},
   "outputs": [],
   "source": [
    "c=cte.c\n",
    "c_um=c.to(\"um/s\")\n",
    "c_mm=c.to(\"mm/s\")\n",
    "Msun=cte.M_sun"
   ]
  },
  {
   "cell_type": "code",
   "execution_count": 3,
   "metadata": {},
   "outputs": [],
   "source": [
    "file = open(\"/Users/mariajesusfloresmoraga/Desktop/DSFG/SPT.csv\")\n",
    "csvreader = csv.reader(file)\n",
    "header = []\n",
    "header = next(csvreader)\n",
    "\n",
    "rows = []\n",
    "for row in csvreader:\n",
    "        rows.append(row)\n",
    "\n",
    "ID= []\n",
    "\n",
    "z=[]\n",
    "\n",
    "S3=[]\n",
    "errS3=[]\n",
    "\n",
    "S2=[]\n",
    "errS2=[]\n",
    "\n",
    "S1=[]\n",
    "errS1=[]\n",
    "\n",
    "S870=[]\n",
    "errS870=[]\n",
    "\n",
    "S500=[]\n",
    "errS500=[]\n",
    "\n",
    "S350=[]\n",
    "errS350=[]\n",
    "\n",
    "S250=[]\n",
    "errS250=[]\n",
    "\n",
    "S160=[]\n",
    "errS160=[]\n",
    "\n",
    "S100=[]\n",
    "errS100=[]\n",
    "\n",
    "for j in rows:   \n",
    "    \n",
    "    ID.append(j[0])\n",
    "    z.append(float(j[1]))\n",
    "    S3.append(float(j[2]))\n",
    "    errS3.append(float(j[3]))\n",
    "    S2.append(float(j[4]))\n",
    "    errS2.append(float(j[5]))\n",
    "    S1.append(float(j[6]))\n",
    "    errS1.append(float(j[7]))\n",
    "    S870.append(float(j[8]))\n",
    "    errS870.append(float(j[9]))\n",
    "    S500.append(float(j[10]))\n",
    "    errS500.append(float(j[11]))\n",
    "    S350.append(float(j[12]))\n",
    "    errS350.append(float(j[13]))\n",
    "    S250.append(float(j[14]))\n",
    "    errS250.append(float(j[15]))\n",
    "    S160.append(float(j[16]))\n",
    "    errS160.append(float(j[17]))\n",
    "    S100.append(float(j[18]))\n",
    "    errS100.append(float(j[19]))\n",
    "   "
   ]
  },
  {
   "cell_type": "code",
   "execution_count": 196,
   "metadata": {},
   "outputs": [
    {
     "name": "stdout",
     "output_type": "stream",
     "text": [
      "[9.36851431e+10 1.49896229e+11 2.14137470e+11 3.44589032e+11\n",
      " 5.99584916e+11 8.56549880e+11 1.19916983e+12 1.87370286e+12\n",
      " 2.99792458e+12]\n"
     ]
    }
   ],
   "source": [
    "v__=np.array([870,500,350,250,160,100])*un.um\n",
    "v_=(c_um/v__).to(\"Hz\")\n",
    "v=v_.value\n",
    "l__=np.array([3.2,2,1.4])*un.mm\n",
    "l_=(c_mm/l__).to(\"Hz\")\n",
    "l=l_.value\n",
    "vf=np.concatenate((l,v))\n",
    "print(vf)"
   ]
  },
  {
   "cell_type": "code",
   "execution_count": 197,
   "metadata": {},
   "outputs": [],
   "source": [
    "def tau(z,M_,d_,vf): \n",
    "    v0=353*un.GHz\n",
    "    b=2\n",
    "    M=Msun * 10** M_\n",
    "    k0=0.15*(un.m**2/un.kg) \n",
    "    tau=k0*(vf/v0)**b *(z+1)**b * M/(np.pi*(d_/2)**2)\n",
    "    return tau.to(\"\")"
   ]
  },
  {
   "cell_type": "code",
   "execution_count": 198,
   "metadata": {},
   "outputs": [],
   "source": [
    "def P(vf,T,z):\n",
    "    h=cte.h\n",
    "    K=cte.k_B\n",
    "    A=2*h/(c**2)\n",
    "    a=(h*vf*(1+z)/(K*T))\n",
    "    B=vf**3/(np.e**(a.value) -1)\n",
    "    P=(A*B).to(\"mJy\")\n",
    "    return P"
   ]
  },
  {
   "cell_type": "code",
   "execution_count": 199,
   "metadata": {},
   "outputs": [],
   "source": [
    "def modelSv(z,T,M_,d_,vf):\n",
    "    b=2\n",
    "    v0=353*un.GHz\n",
    "    D=cosmo.angular_diameter_distance(z)\n",
    "    M=Msun*(10**M_)\n",
    "    d=d_\n",
    "    O=np.pi*(d/2)**2 * (D**-2)\n",
    "    S_=O*(1-np.e**-tau(z,M_,d_,vf))*P(vf,T,z)\n",
    "    S=S_.to(\"mJy\")\n",
    "    return S"
   ]
  },
  {
   "cell_type": "code",
   "execution_count": 955,
   "metadata": {},
   "outputs": [],
   "source": [
    "def A(z,Tc,M_,d_,vf): \n",
    "    v0=353*un.GHz\n",
    "    b=2\n",
    "    Tvariable=(np.linspace(Tc.value,1000,10000)) *un.K\n",
    "    integrales=[]\n",
    "    for i in vf:\n",
    "        integrales.append(scipy.integrate.trapz(modelSv(z,Tvariable,M_,d_,i)*(Tvariable)**-7,x=Tvariable))\n",
    "    return integrales"
   ]
  },
  {
   "cell_type": "code",
   "execution_count": 940,
   "metadata": {},
   "outputs": [],
   "source": [
    "def modelSobs(z,Tc,M_,d_,vf): #Como SPT no entrega Tc tomamos Tc= T-10\n",
    "    b=2\n",
    "    v0=353*un.GHz\n",
    "    D=cosmo.angular_diameter_distance(z)\n",
    "    TCMB=2.725*un.K\n",
    "    O=np.pi*(d_/2)**2 * (D**-2)\n",
    "    integral=A(z,Tc,M_,d_,vf)\n",
    "    h=cte.h\n",
    "    K=cte.k_B\n",
    "    model_=[]\n",
    "    for j in range(len(vf)):\n",
    "        M1=6 * Tc**6 * integral[j]\n",
    "    \n",
    "        M2=O * np.e**-tau(z,M_,d_,v0) * (2*h)/(c**2) * (vf[j]**3)/(np.e**(h*vf[j]/(K*TCMB))-1)\n",
    "        model_.append((M1+M2).value)\n",
    "    model=model_*un.mJy\n",
    "\n",
    "    return model"
   ]
  },
  {
   "cell_type": "code",
   "execution_count": 1263,
   "metadata": {},
   "outputs": [
    {
     "name": "stdout",
     "output_type": "stream",
     "text": [
      "10.13142617214745\n"
     ]
    }
   ],
   "source": [
    "z_ref=3.0    #datos sacados del prom de los datos de SPT\n",
    "T_ref=61.7*un.K\n",
    "Tc_ref=T_ref-10*un.K\n",
    "M_ref=np.log10(6.7*2.02*10**9) #U M\n",
    "print(M_ref)\n",
    "d_ref=3.8*un.kpc"
   ]
  },
  {
   "cell_type": "markdown",
   "metadata": {},
   "source": [
    "SPT0002-52"
   ]
  },
  {
   "cell_type": "code",
   "execution_count": 1264,
   "metadata": {},
   "outputs": [],
   "source": [
    "x0 = np.linspace(100,3000,200)*un.GHz\n",
    "x0 = x0.to(\"Hz\")"
   ]
  },
  {
   "cell_type": "code",
   "execution_count": 1265,
   "metadata": {},
   "outputs": [],
   "source": [
    "model_S_0=modelSv(z_ref,T_ref,M_ref,d_ref,x0)\n",
    "model_PL_0=modelSobs(z_ref,Tc_ref,M_ref,d_ref,x0) "
   ]
  },
  {
   "cell_type": "code",
   "execution_count": 1266,
   "metadata": {},
   "outputs": [
    {
     "data": {
      "text/latex": [
       "$[6.6421,~10.439583,~15.262732,~\\dots,~64.854841,~63.986204,~63.131412] \\; \\mathrm{mJy}$"
      ],
      "text/plain": [
       "<Quantity [  6.64209998,  10.43958254,  15.26273207,  21.06549175,\n",
       "            27.74524592,  35.16038124,  43.14992284,  51.55188316,\n",
       "            60.21788918,  69.0228167 ,  77.86927453,  86.68764446,\n",
       "            95.43289206, 104.07952019, 112.61591276, 121.03901917,\n",
       "           129.34996868, 137.55086629, 145.64275999, 153.62460309,\n",
       "           161.49295971, 169.24219406, 176.86492105, 184.35255097,\n",
       "           191.69581947, 198.88524305, 205.91147685, 212.76557493,\n",
       "           219.43916564, 225.92455958, 232.21480756, 238.30372354,\n",
       "           244.18588422, 249.85661399, 255.31196085, 260.54866739,\n",
       "           265.56413913, 270.35641162, 274.9241174 , 279.26645301,\n",
       "           283.38314668, 287.27442647, 290.94098936, 294.38397103,\n",
       "           297.60491656, 300.60575194, 303.38875654, 305.95653646,\n",
       "           308.3119988 , 310.45832686, 312.39895626, 314.13755199,\n",
       "           315.67798644, 317.02431823, 318.18077209, 319.15171958,\n",
       "           319.9416607 , 320.55520643, 320.9970621 , 321.27201162,\n",
       "           321.38490259, 321.34063216, 321.14413377, 320.80036462,\n",
       "           320.3142939 , 319.6908918 , 318.93511919, 318.05191802,\n",
       "           317.04620239, 315.92285026, 314.68669582, 313.34252238,\n",
       "           311.89505591, 310.34895911, 308.70882605, 306.97917721,\n",
       "           305.16445511, 303.26902039, 301.29714826, 299.25302543,\n",
       "           297.14074742, 294.96431625, 292.72763846, 290.43452348,\n",
       "           288.08868235, 285.69372665, 283.2531678 , 280.77041658,\n",
       "           278.24878284, 275.69147557, 273.10160305, 270.48217323,\n",
       "           267.83609435, 265.16617566, 262.47512831, 259.76556639,\n",
       "           257.04000811, 254.30087706, 251.55050358, 248.79112629,\n",
       "           246.02489361, 243.25386542, 240.48001476, 237.70522959,\n",
       "           234.9313146 , 232.15999309, 229.39290884, 226.63162803,\n",
       "           223.87764117, 221.13236509, 218.3971449 , 215.67325592,\n",
       "           212.96190575, 210.26423613, 207.58132502, 204.91418847,\n",
       "           202.2637826 , 199.63100554, 197.01669932, 194.42165173,\n",
       "           191.84659824, 189.29222377, 186.75916455, 184.24800984,\n",
       "           181.75930372, 179.29354679, 176.85119781, 174.43267539,\n",
       "           172.03835956, 169.66859337, 167.3236844 , 165.00390624,\n",
       "           162.70949998, 160.44067561, 158.19761342, 155.98046529,\n",
       "           153.78935608, 151.62438481, 149.48562593, 147.37313054,\n",
       "           145.28692748, 143.2270245 , 141.19340933, 139.18605071,\n",
       "           137.20489941, 135.24988923, 133.3209379 , 131.41794803,\n",
       "           129.54080797, 127.68939265, 125.86356439, 124.06317372,\n",
       "           122.28806008, 120.53805257, 118.81297066, 117.11262482,\n",
       "           115.43681722, 113.78534226, 112.15798723, 110.55453285,\n",
       "           108.9747538 , 107.41841924, 105.88529332, 104.37513561,\n",
       "           102.8877016 , 101.42274309,  99.98000864,  98.55924389,\n",
       "            97.16019202,  95.78259401,  94.42618905,  93.09071482,\n",
       "            91.77590781,  90.48150358,  89.20723705,  87.95284277,\n",
       "            86.71805513,  85.50260861,  84.306238  ,  83.12867858,\n",
       "            81.96966634,  80.82893814,  79.70623188,  78.60128668,\n",
       "            77.51384301,  76.44364283,  75.39042971,  74.35394897,\n",
       "            73.33394781,  72.33017534,  71.34238277,  70.37032342,\n",
       "            69.41375287,  68.47242897,  67.54611195,  66.63456449,\n",
       "            65.73755172,  64.85484136,  63.98620368,  63.13141158] mJy>"
      ]
     },
     "execution_count": 1266,
     "metadata": {},
     "output_type": "execute_result"
    }
   ],
   "source": [
    "model_PL_0"
   ]
  },
  {
   "cell_type": "code",
   "execution_count": 1267,
   "metadata": {},
   "outputs": [
    {
     "data": {
      "text/latex": [
       "$[-0.047405011,~-0.075359107,~-0.11246426,~\\dots,~-48.835615,~-48.450761,~-48.066215] \\; \\mathrm{mJy}$"
      ],
      "text/plain": [
       "<Quantity [-4.74050111e-02, -7.53591070e-02, -1.12464256e-01,\n",
       "           -1.59395574e-01, -2.16476070e-01, -2.83728962e-01,\n",
       "           -3.60963502e-01, -4.47876389e-01, -5.44151460e-01,\n",
       "           -6.49543805e-01, -7.63939556e-01, -8.87388190e-01,\n",
       "           -1.02010900e+00, -1.16247688e+00, -1.31499429e+00,\n",
       "           -1.47825643e+00, -1.65291568e+00, -1.83964964e+00,\n",
       "           -2.03913533e+00, -2.25203027e+00, -2.47896012e+00,\n",
       "           -2.72051180e+00, -2.97723044e+00, -3.24961898e+00,\n",
       "           -3.53813903e+00, -3.84321224e+00, -4.16522156e+00,\n",
       "           -4.50451222e+00, -4.86139210e+00, -5.23613181e+00,\n",
       "           -5.62896435e+00, -6.04008453e+00, -6.46964836e+00,\n",
       "           -6.91777227e+00, -7.38453251e+00, -7.86996454e+00,\n",
       "           -8.37406261e+00, -8.89677945e+00, -9.43802614e+00,\n",
       "           -9.99767214e+00, -1.05755454e+01, -1.11714330e+01,\n",
       "           -1.17850811e+01, -1.24161962e+01, -1.30644456e+01,\n",
       "           -1.37294584e+01, -1.44108267e+01, -1.51081065e+01,\n",
       "           -1.58208193e+01, -1.65484535e+01, -1.72904656e+01,\n",
       "           -1.80462820e+01, -1.88153009e+01, -1.95968934e+01,\n",
       "           -2.03904060e+01, -2.11951619e+01, -2.20104630e+01,\n",
       "           -2.28355921e+01, -2.36698143e+01, -2.45123795e+01,\n",
       "           -2.53625239e+01, -2.62194721e+01, -2.70824389e+01,\n",
       "           -2.79506317e+01, -2.88232516e+01, -2.96994960e+01,\n",
       "           -3.05785599e+01, -3.14596380e+01, -3.23419263e+01,\n",
       "           -3.32246237e+01, -3.41069340e+01, -3.49880668e+01,\n",
       "           -3.58672397e+01, -3.67436796e+01, -3.76166236e+01,\n",
       "           -3.84853210e+01, -3.93490340e+01, -4.02070392e+01,\n",
       "           -4.10586285e+01, -4.19031103e+01, -4.27398105e+01,\n",
       "           -4.35680730e+01, -4.43872609e+01, -4.51967573e+01,\n",
       "           -4.59959654e+01, -4.67843098e+01, -4.75612366e+01,\n",
       "           -4.83262140e+01, -4.90787325e+01, -4.98183055e+01,\n",
       "           -5.05444696e+01, -5.12567844e+01, -5.19548331e+01,\n",
       "           -5.26382223e+01, -5.33065821e+01, -5.39595663e+01,\n",
       "           -5.45968519e+01, -5.52181394e+01, -5.58231524e+01,\n",
       "           -5.64116375e+01, -5.69833641e+01, -5.75381240e+01,\n",
       "           -5.80757311e+01, -5.85960212e+01, -5.90988514e+01,\n",
       "           -5.95841000e+01, -6.00516657e+01, -6.05014674e+01,\n",
       "           -6.09334437e+01, -6.13475523e+01, -6.17437697e+01,\n",
       "           -6.21220903e+01, -6.24825263e+01, -6.28251068e+01,\n",
       "           -6.31498774e+01, -6.34568997e+01, -6.37462505e+01,\n",
       "           -6.40180215e+01, -6.42723184e+01, -6.45092607e+01,\n",
       "           -6.47289807e+01, -6.49316233e+01, -6.51173451e+01,\n",
       "           -6.52863140e+01, -6.54387088e+01, -6.55747180e+01,\n",
       "           -6.56945400e+01, -6.57983822e+01, -6.58864602e+01,\n",
       "           -6.59589978e+01, -6.60162261e+01, -6.60583830e+01,\n",
       "           -6.60857129e+01, -6.60984660e+01, -6.60968978e+01,\n",
       "           -6.60812688e+01, -6.60518441e+01, -6.60088925e+01,\n",
       "           -6.59526864e+01, -6.58835017e+01, -6.58016165e+01,\n",
       "           -6.57073117e+01, -6.56008697e+01, -6.54825748e+01,\n",
       "           -6.53527124e+01, -6.52115688e+01, -6.50594306e+01,\n",
       "           -6.48965850e+01, -6.47233187e+01, -6.45399184e+01,\n",
       "           -6.43466698e+01, -6.41438579e+01, -6.39317663e+01,\n",
       "           -6.37106774e+01, -6.34808717e+01, -6.32426280e+01,\n",
       "           -6.29962228e+01, -6.27419305e+01, -6.24800230e+01,\n",
       "           -6.22107694e+01, -6.19344362e+01, -6.16512868e+01,\n",
       "           -6.13615815e+01, -6.10655775e+01, -6.07635283e+01,\n",
       "           -6.04556843e+01, -6.01422921e+01, -5.98235947e+01,\n",
       "           -5.94998313e+01, -5.91712373e+01, -5.88380441e+01,\n",
       "           -5.85004793e+01, -5.81587662e+01, -5.78131243e+01,\n",
       "           -5.74637687e+01, -5.71109104e+01, -5.67547564e+01,\n",
       "           -5.63955093e+01, -5.60333676e+01, -5.56685253e+01,\n",
       "           -5.53011723e+01, -5.49314944e+01, -5.45596728e+01,\n",
       "           -5.41858848e+01, -5.38103032e+01, -5.34330966e+01,\n",
       "           -5.30544296e+01, -5.26744625e+01, -5.22933513e+01,\n",
       "           -5.19112481e+01, -5.15283008e+01, -5.11446531e+01,\n",
       "           -5.07604450e+01, -5.03758123e+01, -4.99908868e+01,\n",
       "           -4.96057967e+01, -4.92206659e+01, -4.88356150e+01,\n",
       "           -4.84507605e+01, -4.80662153e+01] mJy>"
      ]
     },
     "execution_count": 1267,
     "metadata": {},
     "output_type": "execute_result"
    }
   ],
   "source": [
    "model_S_0-model_PL_0"
   ]
  },
  {
   "cell_type": "code",
   "execution_count": 1268,
   "metadata": {},
   "outputs": [
    {
     "data": {
      "text/plain": [
       "<matplotlib.legend.Legend at 0x1a33da32d0>"
      ]
     },
     "execution_count": 1268,
     "metadata": {},
     "output_type": "execute_result"
    },
    {
     "data": {
      "image/png": "[encoded data removed]",
      "text/plain": [
       "<Figure size 432x288 with 1 Axes>"
      ]
     },
     "metadata": {
      "needs_background": "light"
     },
     "output_type": "display_data"
    }
   ],
   "source": [
    "plt.plot(vf,frecs0T,\"k\",label=\"data\") #esto es solo para ir viendo un poco los valores de ref.\n",
    "plt.plot(x0,model_S_0,ls=\"--\",c=\"b\",label=\"model Single\")\n",
    "plt.plot(x0,model_PL_0,ls=\"--\",c=\"g\",label=\"model PL\")\n",
    "#plt.errorbar(v,frecs0[0],errf0[0],marker=\"o\",markersize=8,markerfacecolor='red',c=\"k\",label=\"ACT\")\n",
    "#plt.errorbar(l,frecs0[1],errf0[1],marker=\"o\",markersize=8,markerfacecolor='blue',c=\"k\",label=\"Herschel\")\n",
    "plt.xlabel(r\"$\\nu$ [Hz]\",fontsize=14)\n",
    "plt.ylabel(r\"$F_{\\nu} [mJy]$\",fontsize=14)\n",
    "plt.title(\"{}\".format(ID[0]),fontsize=14)\n",
    "plt.annotate(r\"$T_{d}=63K$\",(5*10**11,10),fontsize=14)\n",
    "plt.xscale(\"log\")\n",
    "plt.yscale(\"log\")\n",
    "plt.legend()"
   ]
  },
  {
   "cell_type": "code",
   "execution_count": 1269,
   "metadata": {},
   "outputs": [],
   "source": [
    "def fit_bb(x, *p): #p not a list, x va en Hz\n",
    "    #dejar una descripcion de los parametros que entran en la funcion entre comillas al comienzo\n",
    "    \"\"\"\n",
    "    x : frecuencia *un.Hz ------> por alguna razon esto esta en Hz pero el v0 por ejemplo en GHz\n",
    "    p = z T M d  ---------------> parametros a fitear   \n",
    "    z : redshift (adimensional)\n",
    "    T : temperatura cut-off en Kelvin pero sin usar unidades\n",
    "    M : log(mu M/M_sun) (adimensional)\n",
    "    d : distance *en kpc pero sin usar unidades\n",
    "    \n",
    "    return: modelo en mJy pero sin unidades\n",
    "    \"\"\"\n",
    "    #queda definido dentro el valor de b y v0 que no se cambian nunca\n",
    "    b = 2.0\n",
    "    v0 = 353*un.GHz\n",
    "\n",
    "    return modelSobs(p[0],p[1]*un.K,p[2],p[3]*un.kpc,x)"
   ]
  },
  {
   "cell_type": "code",
   "execution_count": 1270,
   "metadata": {},
   "outputs": [],
   "source": [
    "def lnlike(theta,x,y,yerr):\n",
    "    lnf,z,Tc,M,d = theta\n",
    "    x = x*un.Hz\n",
    "    modelSobs = fit_bb(x,z,Tc,M,d).value\n",
    "    inv_sigma2 = 1.0 / (yerr**2 + (modelSobs)**2 * np.exp(2*lnf))\n",
    "    return -0.5 * np.sum((y-(modelSobs))**2*inv_sigma2 - np.log(inv_sigma2))"
   ]
  },
  {
   "cell_type": "code",
   "execution_count": 1271,
   "metadata": {},
   "outputs": [],
   "source": [
    "def lnprior(theta):\n",
    "    lnf,z,Tc,M,d = theta\n",
    "    if lnf<=-1 and Tc>0 and z>0 and M>0 and d>0:\n",
    "        return -1 * (Tc - 40)**2 / (5 * 10**2) #example gaussian\n",
    "    return -np.inf"
   ]
  },
  {
   "cell_type": "code",
   "execution_count": 1272,
   "metadata": {},
   "outputs": [],
   "source": [
    "def lnprob(theta, x, y, yerr):\n",
    "    lp = lnprior(theta)\n",
    "    if not(np.isfinite(lp)):\n",
    "        return -np.inf\n",
    "    return lp + lnlike(theta, x, y, yerr)"
   ]
  },
  {
   "cell_type": "code",
   "execution_count": 1273,
   "metadata": {},
   "outputs": [],
   "source": [
    "def ml(ID,z,Tc,M_,d_,frecsT,errfT): #recibe con unidades\n",
    "\n",
    "    theta = [-1,z,Tc.value,M_,d_.value]\n",
    "     \n",
    "\n",
    "    n = lambda *args: -lnlike(*args)\n",
    "\n",
    "    maxlike = op.minimize(n, theta, args=(vf,np.array(frecsT),np.array(errfT)))\n",
    "    \n",
    "    lnfM,zm,Tcm,Mm,dm = maxlike[\"x\"]\n",
    "    \n",
    "    plt.figure(figsize=(12,9))\n",
    "\n",
    "\n",
    "    x0 = np.linspace(100,2000,200)*un.GHz\n",
    "    x0 = x0.to(\"Hz\")\n",
    "        \n",
    "    pm = [zm,Tcm,Mm,dm]\n",
    "\n",
    "    y = fit_bb(x0,pm[0],pm[1],pm[2],pm[3])\n",
    "\n",
    "    plt.plot(x0,y,label=\"MaxL\")\n",
    "    plt.errorbar(vf,np.array(frecsT),yerr=np.array(errfT),marker=\"o\",label=\"Data\")\n",
    "    plt.xscale(\"log\")\n",
    "    plt.yscale(\"log\")\n",
    "    plt.annotate(r\"$z:{},T:{},M:{},d:{}$\".format(np.round(zm,2),np.round(Tcm,2),np.round(Mm,2),np.round(dm,2)),(5*10**11,5),fontsize=14)\n",
    "\n",
    "    plt.ylabel(\"Flux (mJy)\",fontsize=14)\n",
    "    plt.xlabel(\"Frequency (Hz)\",fontsize=14)\n",
    "    plt.title(\"MaxL: {}\".format(ID),fontsize=14)\n",
    "    plt.legend()"
   ]
  },
  {
   "cell_type": "code",
   "execution_count": 1274,
   "metadata": {},
   "outputs": [],
   "source": [
    "def mcmc(ID,z,Tc,M_,d_,frecsT,errfT): #recibe con unidades, T=Tc =Td-10\n",
    "\n",
    "    theta = [-1,z,Tc.value,M_,d_.value]\n",
    "     \n",
    "\n",
    "    n = lambda *args: -lnlike(*args)\n",
    "\n",
    "    maxlike = op.minimize(n, theta, args=(vf,np.array(frecsT),np.array(errfT)))\n",
    "    \n",
    "    lnfM,zm,Tcm,Mm,dm = maxlike[\"x\"]\n",
    "    \n",
    "    plt.figure(figsize=(12,9))\n",
    "\n",
    "\n",
    "    x0 = np.linspace(100,2500,200)*un.GHz\n",
    "    x0 = x0.to(\"Hz\")\n",
    "    \n",
    "        \n",
    "    pm = [zm,Tcm,Mm,dm]\n",
    "\n",
    "    y = fit_bb(x0,pm[0],pm[1],pm[2],pm[3])\n",
    "\n",
    "    ndim, nwalkers = 5, 1000 # 6000 iteraciones\n",
    "    pos = [maxlike[\"x\"] + 1e-3 * np.random.randn(ndim) for i in range(nwalkers)]\n",
    "    \n",
    "    sampler = emcee.EnsembleSampler(nwalkers, ndim, lnprob,args=(vf,np.array(frecsT),np.array(errfT)),\n",
    "                                threads=2)\n",
    "    sampler.run_mcmc(pos, 100) #16 chains\n",
    "    samples = sampler.chain[:, 90:, :].reshape((-1, ndim))\n",
    "    \n",
    "    fig = corner.corner(samples,\n",
    "                    labels=[\"ln\",\"z\", \"T\", r\"$M$\", r\"$d$\"],\n",
    "                    quantiles=[0.16, 0.5, 0.84],\n",
    "                    show_titles=True,\n",
    "                    truths=[lnfM,zm,Tcm,Mm,dm])"
   ]
  },
  {
   "cell_type": "markdown",
   "metadata": {},
   "source": [
    "SPT0002-52"
   ]
  },
  {
   "cell_type": "code",
   "execution_count": 1275,
   "metadata": {},
   "outputs": [],
   "source": [
    "frecs0T=np.array([S3[0],S2[0],S1[0],S870[0],S500[0],S350[0],S250[0],S160[0],S100[0]])\n",
    "errf0T=np.array([errS3[0],errS2[0],errS1[0],errS870[0],errS500[0],errS350[0],errS250[0],errS160[0],errS100[0]])"
   ]
  },
  {
   "cell_type": "code",
   "execution_count": 1276,
   "metadata": {},
   "outputs": [],
   "source": [
    "frecs0=[[S3[0],S2[0],S1[0]],[S870[0],S500[0],S350[0],S250[0],S160[0],S100[0]]]\n",
    "errf0=[[errS3[0],errS2[0],errS1[0]],[errS870[0],errS500[0],errS350[0],errS250[0],errS160[0],errS100[0]]]"
   ]
  },
  {
   "cell_type": "code",
   "execution_count": 1277,
   "metadata": {},
   "outputs": [
    {
     "data": {
      "text/plain": [
       "-42.22021491749328"
      ]
     },
     "execution_count": 1277,
     "metadata": {},
     "output_type": "execute_result"
    }
   ],
   "source": [
    "lnlike([-1,z_ref,Tc_ref.value,M_ref,d_ref.value],vf,frecs0T,errf0T)"
   ]
  },
  {
   "cell_type": "code",
   "execution_count": 1278,
   "metadata": {},
   "outputs": [
    {
     "data": {
      "image/png": "[encoded data removed]",
      "text/plain": [
       "<Figure size 864x648 with 1 Axes>"
      ]
     },
     "metadata": {
      "needs_background": "light"
     },
     "output_type": "display_data"
    }
   ],
   "source": [
    "ml(ID[0],z_ref,Tc_ref,M_ref,d_ref,frecs0T,errf0T)"
   ]
  },
  {
   "cell_type": "code",
   "execution_count": 1282,
   "metadata": {},
   "outputs": [
    {
     "name": "stdout",
     "output_type": "stream",
     "text": [
      "emcee: Exception while calling your likelihood function:\n",
      "  params: [-1.79891668  0.97891571 30.6706158  10.05509305  2.80909748]\n",
      "  args: (array([9.36851431e+10, 1.49896229e+11, 2.14137470e+11, 3.44589032e+11,\n",
      "       5.99584916e+11, 8.56549880e+11, 1.19916983e+12, 1.87370286e+12,\n",
      "       2.99792458e+12]), array([  0.47,   3.1 ,  10.7 ,  50.3 , 202.  , 283.5 , 332.9 , 234.3 ,\n",
      "        93.9 ]), array([ 0.03,  0.9 ,  5.8 ,  3.8 , 10.  ,  8.9 , 10.1 , 21.3 ,  5.4 ]))\n",
      "  kwargs: {}\n",
      "  exception:\n"
     ]
    },
    {
     "name": "stderr",
     "output_type": "stream",
     "text": [
      "Traceback (most recent call last):\n",
      "  File \"/opt/anaconda3/lib/python3.7/site-packages/emcee/ensemble.py\", line 624, in __call__\n",
      "    return self.f(x, *self.args, **self.kwargs)\n",
      "  File \"<ipython-input-1272-2539da820b12>\", line 5, in lnprob\n",
      "    return lp + lnlike(theta, x, y, yerr)\n",
      "  File \"<ipython-input-1270-9d493e908c95>\", line 4, in lnlike\n",
      "    modelSobs = fit_bb(x,z,Tc,M,d).value\n",
      "  File \"<ipython-input-1269-f5437cf426b6>\", line 17, in fit_bb\n",
      "    return modelSobs(p[0],p[1]*un.K,p[2],p[3]*un.kpc,x)\n",
      "  File \"<ipython-input-940-998da2cf7844>\", line 7, in modelSobs\n",
      "    integral=A(z,Tc,M_,d_,vf)\n",
      "  File \"<ipython-input-955-cc637c3f62a9>\", line 7, in A\n",
      "    integrales.append(scipy.integrate.trapz(modelSv(z,Tvariable,M_,d_,i)*(Tvariable)**-7,x=Tvariable))\n",
      "  File \"<ipython-input-199-35c2ed093336>\", line 7, in modelSv\n",
      "    O=np.pi*(d/2)**2 * (D**-2)\n",
      "  File \"/opt/anaconda3/lib/python3.7/site-packages/astropy/units/quantity.py\", line 1011, in __pow__\n",
      "    return super().__pow__(other)\n",
      "  File \"/opt/anaconda3/lib/python3.7/site-packages/astropy/units/quantity.py\", line 477, in __array_ufunc__\n",
      "    input_ = getattr(input_, 'value', input_)\n",
      "  File \"/opt/anaconda3/lib/python3.7/site-packages/astropy/units/quantity.py\", line 695, in to_value\n",
      "    def to_value(self, unit=None, equivalencies=[]):\n",
      "KeyboardInterrupt\n"
     ]
    },
    {
     "ename": "KeyboardInterrupt",
     "evalue": "",
     "output_type": "error",
     "traceback": [
      "\u001b[0;31m---------------------------------------------------------------------------\u001b[0m",
      "\u001b[0;31mKeyboardInterrupt\u001b[0m                         Traceback (most recent call last)",
      "\u001b[0;32m<ipython-input-1282-6bdf7a72f0ca>\u001b[0m in \u001b[0;36m<module>\u001b[0;34m\u001b[0m\n\u001b[0;32m----> 1\u001b[0;31m \u001b[0mmcmc\u001b[0m\u001b[0;34m(\u001b[0m\u001b[0mID\u001b[0m\u001b[0;34m[\u001b[0m\u001b[0;36m0\u001b[0m\u001b[0;34m]\u001b[0m\u001b[0;34m,\u001b[0m\u001b[0mz_ref\u001b[0m\u001b[0;34m,\u001b[0m\u001b[0mTc_ref\u001b[0m\u001b[0;34m,\u001b[0m\u001b[0mM_ref\u001b[0m\u001b[0;34m,\u001b[0m\u001b[0md_ref\u001b[0m\u001b[0;34m,\u001b[0m\u001b[0mfrecs0T\u001b[0m\u001b[0;34m,\u001b[0m\u001b[0merrf0T\u001b[0m\u001b[0;34m)\u001b[0m\u001b[0;34m\u001b[0m\u001b[0;34m\u001b[0m\u001b[0m\n\u001b[0m",
      "\u001b[0;32m<ipython-input-1274-b411069216da>\u001b[0m in \u001b[0;36mmcmc\u001b[0;34m(ID, z, Tc, M_, d_, frecsT, errfT)\u001b[0m\n\u001b[1;32m     26\u001b[0m     sampler = emcee.EnsembleSampler(nwalkers, ndim, lnprob,args=(vf,np.array(frecsT),np.array(errfT)),\n\u001b[1;32m     27\u001b[0m                                 threads=2)\n\u001b[0;32m---> 28\u001b[0;31m     \u001b[0msampler\u001b[0m\u001b[0;34m.\u001b[0m\u001b[0mrun_mcmc\u001b[0m\u001b[0;34m(\u001b[0m\u001b[0mpos\u001b[0m\u001b[0;34m,\u001b[0m \u001b[0;36m100\u001b[0m\u001b[0;34m)\u001b[0m \u001b[0;31m#16 chains\u001b[0m\u001b[0;34m\u001b[0m\u001b[0;34m\u001b[0m\u001b[0m\n\u001b[0m\u001b[1;32m     29\u001b[0m     \u001b[0msamples\u001b[0m \u001b[0;34m=\u001b[0m \u001b[0msampler\u001b[0m\u001b[0;34m.\u001b[0m\u001b[0mchain\u001b[0m\u001b[0;34m[\u001b[0m\u001b[0;34m:\u001b[0m\u001b[0;34m,\u001b[0m \u001b[0;36m90\u001b[0m\u001b[0;34m:\u001b[0m\u001b[0;34m,\u001b[0m \u001b[0;34m:\u001b[0m\u001b[0;34m]\u001b[0m\u001b[0;34m.\u001b[0m\u001b[0mreshape\u001b[0m\u001b[0;34m(\u001b[0m\u001b[0;34m(\u001b[0m\u001b[0;34m-\u001b[0m\u001b[0;36m1\u001b[0m\u001b[0;34m,\u001b[0m \u001b[0mndim\u001b[0m\u001b[0;34m)\u001b[0m\u001b[0;34m)\u001b[0m\u001b[0;34m\u001b[0m\u001b[0;34m\u001b[0m\u001b[0m\n\u001b[1;32m     30\u001b[0m \u001b[0;34m\u001b[0m\u001b[0m\n",
      "\u001b[0;32m/opt/anaconda3/lib/python3.7/site-packages/emcee/ensemble.py\u001b[0m in \u001b[0;36mrun_mcmc\u001b[0;34m(self, initial_state, nsteps, **kwargs)\u001b[0m\n\u001b[1;32m    441\u001b[0m \u001b[0;34m\u001b[0m\u001b[0m\n\u001b[1;32m    442\u001b[0m         \u001b[0mresults\u001b[0m \u001b[0;34m=\u001b[0m \u001b[0;32mNone\u001b[0m\u001b[0;34m\u001b[0m\u001b[0;34m\u001b[0m\u001b[0m\n\u001b[0;32m--> 443\u001b[0;31m         \u001b[0;32mfor\u001b[0m \u001b[0mresults\u001b[0m \u001b[0;32min\u001b[0m \u001b[0mself\u001b[0m\u001b[0;34m.\u001b[0m\u001b[0msample\u001b[0m\u001b[0;34m(\u001b[0m\u001b[0minitial_state\u001b[0m\u001b[0;34m,\u001b[0m \u001b[0miterations\u001b[0m\u001b[0;34m=\u001b[0m\u001b[0mnsteps\u001b[0m\u001b[0;34m,\u001b[0m \u001b[0;34m**\u001b[0m\u001b[0mkwargs\u001b[0m\u001b[0;34m)\u001b[0m\u001b[0;34m:\u001b[0m\u001b[0;34m\u001b[0m\u001b[0;34m\u001b[0m\u001b[0m\n\u001b[0m\u001b[1;32m    444\u001b[0m             \u001b[0;32mpass\u001b[0m\u001b[0;34m\u001b[0m\u001b[0;34m\u001b[0m\u001b[0m\n\u001b[1;32m    445\u001b[0m \u001b[0;34m\u001b[0m\u001b[0m\n",
      "\u001b[0;32m/opt/anaconda3/lib/python3.7/site-packages/emcee/ensemble.py\u001b[0m in \u001b[0;36msample\u001b[0;34m(self, initial_state, log_prob0, rstate0, blobs0, iterations, tune, skip_initial_state_check, thin_by, thin, store, progress, progress_kwargs)\u001b[0m\n\u001b[1;32m    400\u001b[0m \u001b[0;34m\u001b[0m\u001b[0m\n\u001b[1;32m    401\u001b[0m                     \u001b[0;31m# Propose\u001b[0m\u001b[0;34m\u001b[0m\u001b[0;34m\u001b[0m\u001b[0;34m\u001b[0m\u001b[0m\n\u001b[0;32m--> 402\u001b[0;31m                     \u001b[0mstate\u001b[0m\u001b[0;34m,\u001b[0m \u001b[0maccepted\u001b[0m \u001b[0;34m=\u001b[0m \u001b[0mmove\u001b[0m\u001b[0;34m.\u001b[0m\u001b[0mpropose\u001b[0m\u001b[0;34m(\u001b[0m\u001b[0mmodel\u001b[0m\u001b[0;34m,\u001b[0m \u001b[0mstate\u001b[0m\u001b[0;34m)\u001b[0m\u001b[0;34m\u001b[0m\u001b[0;34m\u001b[0m\u001b[0m\n\u001b[0m\u001b[1;32m    403\u001b[0m                     \u001b[0mstate\u001b[0m\u001b[0;34m.\u001b[0m\u001b[0mrandom_state\u001b[0m \u001b[0;34m=\u001b[0m \u001b[0mself\u001b[0m\u001b[0;34m.\u001b[0m\u001b[0mrandom_state\u001b[0m\u001b[0;34m\u001b[0m\u001b[0;34m\u001b[0m\u001b[0m\n\u001b[1;32m    404\u001b[0m \u001b[0;34m\u001b[0m\u001b[0m\n",
      "\u001b[0;32m/opt/anaconda3/lib/python3.7/site-packages/emcee/moves/red_blue.py\u001b[0m in \u001b[0;36mpropose\u001b[0;34m(self, model, state)\u001b[0m\n\u001b[1;32m     91\u001b[0m \u001b[0;34m\u001b[0m\u001b[0m\n\u001b[1;32m     92\u001b[0m             \u001b[0;31m# Compute the lnprobs of the proposed position.\u001b[0m\u001b[0;34m\u001b[0m\u001b[0;34m\u001b[0m\u001b[0;34m\u001b[0m\u001b[0m\n\u001b[0;32m---> 93\u001b[0;31m             \u001b[0mnew_log_probs\u001b[0m\u001b[0;34m,\u001b[0m \u001b[0mnew_blobs\u001b[0m \u001b[0;34m=\u001b[0m \u001b[0mmodel\u001b[0m\u001b[0;34m.\u001b[0m\u001b[0mcompute_log_prob_fn\u001b[0m\u001b[0;34m(\u001b[0m\u001b[0mq\u001b[0m\u001b[0;34m)\u001b[0m\u001b[0;34m\u001b[0m\u001b[0;34m\u001b[0m\u001b[0m\n\u001b[0m\u001b[1;32m     94\u001b[0m \u001b[0;34m\u001b[0m\u001b[0m\n\u001b[1;32m     95\u001b[0m             \u001b[0;31m# Loop over the walkers and update them accordingly.\u001b[0m\u001b[0;34m\u001b[0m\u001b[0;34m\u001b[0m\u001b[0;34m\u001b[0m\u001b[0m\n",
      "\u001b[0;32m/opt/anaconda3/lib/python3.7/site-packages/emcee/ensemble.py\u001b[0m in \u001b[0;36mcompute_log_prob\u001b[0;34m(self, coords)\u001b[0m\n\u001b[1;32m    487\u001b[0m             \u001b[0;32melse\u001b[0m\u001b[0;34m:\u001b[0m\u001b[0;34m\u001b[0m\u001b[0;34m\u001b[0m\u001b[0m\n\u001b[1;32m    488\u001b[0m                 \u001b[0mmap_func\u001b[0m \u001b[0;34m=\u001b[0m \u001b[0mmap\u001b[0m\u001b[0;34m\u001b[0m\u001b[0;34m\u001b[0m\u001b[0m\n\u001b[0;32m--> 489\u001b[0;31m             \u001b[0mresults\u001b[0m \u001b[0;34m=\u001b[0m \u001b[0mlist\u001b[0m\u001b[0;34m(\u001b[0m\u001b[0mmap_func\u001b[0m\u001b[0;34m(\u001b[0m\u001b[0mself\u001b[0m\u001b[0;34m.\u001b[0m\u001b[0mlog_prob_fn\u001b[0m\u001b[0;34m,\u001b[0m \u001b[0mp\u001b[0m\u001b[0;34m)\u001b[0m\u001b[0;34m)\u001b[0m\u001b[0;34m\u001b[0m\u001b[0;34m\u001b[0m\u001b[0m\n\u001b[0m\u001b[1;32m    490\u001b[0m \u001b[0;34m\u001b[0m\u001b[0m\n\u001b[1;32m    491\u001b[0m         \u001b[0;32mtry\u001b[0m\u001b[0;34m:\u001b[0m\u001b[0;34m\u001b[0m\u001b[0;34m\u001b[0m\u001b[0m\n",
      "\u001b[0;32m/opt/anaconda3/lib/python3.7/site-packages/emcee/ensemble.py\u001b[0m in \u001b[0;36m__call__\u001b[0;34m(self, x)\u001b[0m\n\u001b[1;32m    622\u001b[0m     \u001b[0;32mdef\u001b[0m \u001b[0m__call__\u001b[0m\u001b[0;34m(\u001b[0m\u001b[0mself\u001b[0m\u001b[0;34m,\u001b[0m \u001b[0mx\u001b[0m\u001b[0;34m)\u001b[0m\u001b[0;34m:\u001b[0m\u001b[0;34m\u001b[0m\u001b[0;34m\u001b[0m\u001b[0m\n\u001b[1;32m    623\u001b[0m         \u001b[0;32mtry\u001b[0m\u001b[0;34m:\u001b[0m\u001b[0;34m\u001b[0m\u001b[0;34m\u001b[0m\u001b[0m\n\u001b[0;32m--> 624\u001b[0;31m             \u001b[0;32mreturn\u001b[0m \u001b[0mself\u001b[0m\u001b[0;34m.\u001b[0m\u001b[0mf\u001b[0m\u001b[0;34m(\u001b[0m\u001b[0mx\u001b[0m\u001b[0;34m,\u001b[0m \u001b[0;34m*\u001b[0m\u001b[0mself\u001b[0m\u001b[0;34m.\u001b[0m\u001b[0margs\u001b[0m\u001b[0;34m,\u001b[0m \u001b[0;34m**\u001b[0m\u001b[0mself\u001b[0m\u001b[0;34m.\u001b[0m\u001b[0mkwargs\u001b[0m\u001b[0;34m)\u001b[0m\u001b[0;34m\u001b[0m\u001b[0;34m\u001b[0m\u001b[0m\n\u001b[0m\u001b[1;32m    625\u001b[0m         \u001b[0;32mexcept\u001b[0m\u001b[0;34m:\u001b[0m  \u001b[0;31m# pragma: no cover\u001b[0m\u001b[0;34m\u001b[0m\u001b[0;34m\u001b[0m\u001b[0m\n\u001b[1;32m    626\u001b[0m             \u001b[0;32mimport\u001b[0m \u001b[0mtraceback\u001b[0m\u001b[0;34m\u001b[0m\u001b[0;34m\u001b[0m\u001b[0m\n",
      "\u001b[0;32m<ipython-input-1272-2539da820b12>\u001b[0m in \u001b[0;36mlnprob\u001b[0;34m(theta, x, y, yerr)\u001b[0m\n\u001b[1;32m      3\u001b[0m     \u001b[0;32mif\u001b[0m \u001b[0;32mnot\u001b[0m\u001b[0;34m(\u001b[0m\u001b[0mnp\u001b[0m\u001b[0;34m.\u001b[0m\u001b[0misfinite\u001b[0m\u001b[0;34m(\u001b[0m\u001b[0mlp\u001b[0m\u001b[0;34m)\u001b[0m\u001b[0;34m)\u001b[0m\u001b[0;34m:\u001b[0m\u001b[0;34m\u001b[0m\u001b[0;34m\u001b[0m\u001b[0m\n\u001b[1;32m      4\u001b[0m         \u001b[0;32mreturn\u001b[0m \u001b[0;34m-\u001b[0m\u001b[0mnp\u001b[0m\u001b[0;34m.\u001b[0m\u001b[0minf\u001b[0m\u001b[0;34m\u001b[0m\u001b[0;34m\u001b[0m\u001b[0m\n\u001b[0;32m----> 5\u001b[0;31m     \u001b[0;32mreturn\u001b[0m \u001b[0mlp\u001b[0m \u001b[0;34m+\u001b[0m \u001b[0mlnlike\u001b[0m\u001b[0;34m(\u001b[0m\u001b[0mtheta\u001b[0m\u001b[0;34m,\u001b[0m \u001b[0mx\u001b[0m\u001b[0;34m,\u001b[0m \u001b[0my\u001b[0m\u001b[0;34m,\u001b[0m \u001b[0myerr\u001b[0m\u001b[0;34m)\u001b[0m\u001b[0;34m\u001b[0m\u001b[0;34m\u001b[0m\u001b[0m\n\u001b[0m",
      "\u001b[0;32m<ipython-input-1270-9d493e908c95>\u001b[0m in \u001b[0;36mlnlike\u001b[0;34m(theta, x, y, yerr)\u001b[0m\n\u001b[1;32m      2\u001b[0m     \u001b[0mlnf\u001b[0m\u001b[0;34m,\u001b[0m\u001b[0mz\u001b[0m\u001b[0;34m,\u001b[0m\u001b[0mTc\u001b[0m\u001b[0;34m,\u001b[0m\u001b[0mM\u001b[0m\u001b[0;34m,\u001b[0m\u001b[0md\u001b[0m \u001b[0;34m=\u001b[0m \u001b[0mtheta\u001b[0m\u001b[0;34m\u001b[0m\u001b[0;34m\u001b[0m\u001b[0m\n\u001b[1;32m      3\u001b[0m     \u001b[0mx\u001b[0m \u001b[0;34m=\u001b[0m \u001b[0mx\u001b[0m\u001b[0;34m*\u001b[0m\u001b[0mun\u001b[0m\u001b[0;34m.\u001b[0m\u001b[0mHz\u001b[0m\u001b[0;34m\u001b[0m\u001b[0;34m\u001b[0m\u001b[0m\n\u001b[0;32m----> 4\u001b[0;31m     \u001b[0mmodelSobs\u001b[0m \u001b[0;34m=\u001b[0m \u001b[0mfit_bb\u001b[0m\u001b[0;34m(\u001b[0m\u001b[0mx\u001b[0m\u001b[0;34m,\u001b[0m\u001b[0mz\u001b[0m\u001b[0;34m,\u001b[0m\u001b[0mTc\u001b[0m\u001b[0;34m,\u001b[0m\u001b[0mM\u001b[0m\u001b[0;34m,\u001b[0m\u001b[0md\u001b[0m\u001b[0;34m)\u001b[0m\u001b[0;34m.\u001b[0m\u001b[0mvalue\u001b[0m\u001b[0;34m\u001b[0m\u001b[0;34m\u001b[0m\u001b[0m\n\u001b[0m\u001b[1;32m      5\u001b[0m     \u001b[0minv_sigma2\u001b[0m \u001b[0;34m=\u001b[0m \u001b[0;36m1.0\u001b[0m \u001b[0;34m/\u001b[0m \u001b[0;34m(\u001b[0m\u001b[0myerr\u001b[0m\u001b[0;34m**\u001b[0m\u001b[0;36m2\u001b[0m \u001b[0;34m+\u001b[0m \u001b[0;34m(\u001b[0m\u001b[0mmodelSobs\u001b[0m\u001b[0;34m)\u001b[0m\u001b[0;34m**\u001b[0m\u001b[0;36m2\u001b[0m \u001b[0;34m*\u001b[0m \u001b[0mnp\u001b[0m\u001b[0;34m.\u001b[0m\u001b[0mexp\u001b[0m\u001b[0;34m(\u001b[0m\u001b[0;36m2\u001b[0m\u001b[0;34m*\u001b[0m\u001b[0mlnf\u001b[0m\u001b[0;34m)\u001b[0m\u001b[0;34m)\u001b[0m\u001b[0;34m\u001b[0m\u001b[0;34m\u001b[0m\u001b[0m\n\u001b[1;32m      6\u001b[0m     \u001b[0;32mreturn\u001b[0m \u001b[0;34m-\u001b[0m\u001b[0;36m0.5\u001b[0m \u001b[0;34m*\u001b[0m \u001b[0mnp\u001b[0m\u001b[0;34m.\u001b[0m\u001b[0msum\u001b[0m\u001b[0;34m(\u001b[0m\u001b[0;34m(\u001b[0m\u001b[0my\u001b[0m\u001b[0;34m-\u001b[0m\u001b[0;34m(\u001b[0m\u001b[0mmodelSobs\u001b[0m\u001b[0;34m)\u001b[0m\u001b[0;34m)\u001b[0m\u001b[0;34m**\u001b[0m\u001b[0;36m2\u001b[0m\u001b[0;34m*\u001b[0m\u001b[0minv_sigma2\u001b[0m \u001b[0;34m-\u001b[0m \u001b[0mnp\u001b[0m\u001b[0;34m.\u001b[0m\u001b[0mlog\u001b[0m\u001b[0;34m(\u001b[0m\u001b[0minv_sigma2\u001b[0m\u001b[0;34m)\u001b[0m\u001b[0;34m)\u001b[0m\u001b[0;34m\u001b[0m\u001b[0;34m\u001b[0m\u001b[0m\n",
      "\u001b[0;32m<ipython-input-1269-f5437cf426b6>\u001b[0m in \u001b[0;36mfit_bb\u001b[0;34m(x, *p)\u001b[0m\n\u001b[1;32m     15\u001b[0m     \u001b[0mv0\u001b[0m \u001b[0;34m=\u001b[0m \u001b[0;36m353\u001b[0m\u001b[0;34m*\u001b[0m\u001b[0mun\u001b[0m\u001b[0;34m.\u001b[0m\u001b[0mGHz\u001b[0m\u001b[0;34m\u001b[0m\u001b[0;34m\u001b[0m\u001b[0m\n\u001b[1;32m     16\u001b[0m \u001b[0;34m\u001b[0m\u001b[0m\n\u001b[0;32m---> 17\u001b[0;31m     \u001b[0;32mreturn\u001b[0m \u001b[0mmodelSobs\u001b[0m\u001b[0;34m(\u001b[0m\u001b[0mp\u001b[0m\u001b[0;34m[\u001b[0m\u001b[0;36m0\u001b[0m\u001b[0;34m]\u001b[0m\u001b[0;34m,\u001b[0m\u001b[0mp\u001b[0m\u001b[0;34m[\u001b[0m\u001b[0;36m1\u001b[0m\u001b[0;34m]\u001b[0m\u001b[0;34m*\u001b[0m\u001b[0mun\u001b[0m\u001b[0;34m.\u001b[0m\u001b[0mK\u001b[0m\u001b[0;34m,\u001b[0m\u001b[0mp\u001b[0m\u001b[0;34m[\u001b[0m\u001b[0;36m2\u001b[0m\u001b[0;34m]\u001b[0m\u001b[0;34m,\u001b[0m\u001b[0mp\u001b[0m\u001b[0;34m[\u001b[0m\u001b[0;36m3\u001b[0m\u001b[0;34m]\u001b[0m\u001b[0;34m*\u001b[0m\u001b[0mun\u001b[0m\u001b[0;34m.\u001b[0m\u001b[0mkpc\u001b[0m\u001b[0;34m,\u001b[0m\u001b[0mx\u001b[0m\u001b[0;34m)\u001b[0m\u001b[0;34m\u001b[0m\u001b[0;34m\u001b[0m\u001b[0m\n\u001b[0m",
      "\u001b[0;32m<ipython-input-940-998da2cf7844>\u001b[0m in \u001b[0;36mmodelSobs\u001b[0;34m(z, Tc, M_, d_, vf)\u001b[0m\n\u001b[1;32m      5\u001b[0m     \u001b[0mTCMB\u001b[0m\u001b[0;34m=\u001b[0m\u001b[0;36m2.725\u001b[0m\u001b[0;34m*\u001b[0m\u001b[0mun\u001b[0m\u001b[0;34m.\u001b[0m\u001b[0mK\u001b[0m\u001b[0;34m\u001b[0m\u001b[0;34m\u001b[0m\u001b[0m\n\u001b[1;32m      6\u001b[0m     \u001b[0mO\u001b[0m\u001b[0;34m=\u001b[0m\u001b[0mnp\u001b[0m\u001b[0;34m.\u001b[0m\u001b[0mpi\u001b[0m\u001b[0;34m*\u001b[0m\u001b[0;34m(\u001b[0m\u001b[0md_\u001b[0m\u001b[0;34m/\u001b[0m\u001b[0;36m2\u001b[0m\u001b[0;34m)\u001b[0m\u001b[0;34m**\u001b[0m\u001b[0;36m2\u001b[0m \u001b[0;34m*\u001b[0m \u001b[0;34m(\u001b[0m\u001b[0mD\u001b[0m\u001b[0;34m**\u001b[0m\u001b[0;34m-\u001b[0m\u001b[0;36m2\u001b[0m\u001b[0;34m)\u001b[0m\u001b[0;34m\u001b[0m\u001b[0;34m\u001b[0m\u001b[0m\n\u001b[0;32m----> 7\u001b[0;31m     \u001b[0mintegral\u001b[0m\u001b[0;34m=\u001b[0m\u001b[0mA\u001b[0m\u001b[0;34m(\u001b[0m\u001b[0mz\u001b[0m\u001b[0;34m,\u001b[0m\u001b[0mTc\u001b[0m\u001b[0;34m,\u001b[0m\u001b[0mM_\u001b[0m\u001b[0;34m,\u001b[0m\u001b[0md_\u001b[0m\u001b[0;34m,\u001b[0m\u001b[0mvf\u001b[0m\u001b[0;34m)\u001b[0m\u001b[0;34m\u001b[0m\u001b[0;34m\u001b[0m\u001b[0m\n\u001b[0m\u001b[1;32m      8\u001b[0m     \u001b[0mh\u001b[0m\u001b[0;34m=\u001b[0m\u001b[0mcte\u001b[0m\u001b[0;34m.\u001b[0m\u001b[0mh\u001b[0m\u001b[0;34m\u001b[0m\u001b[0;34m\u001b[0m\u001b[0m\n\u001b[1;32m      9\u001b[0m     \u001b[0mK\u001b[0m\u001b[0;34m=\u001b[0m\u001b[0mcte\u001b[0m\u001b[0;34m.\u001b[0m\u001b[0mk_B\u001b[0m\u001b[0;34m\u001b[0m\u001b[0;34m\u001b[0m\u001b[0m\n",
      "\u001b[0;32m<ipython-input-955-cc637c3f62a9>\u001b[0m in \u001b[0;36mA\u001b[0;34m(z, Tc, M_, d_, vf)\u001b[0m\n\u001b[1;32m      5\u001b[0m     \u001b[0mintegrales\u001b[0m\u001b[0;34m=\u001b[0m\u001b[0;34m[\u001b[0m\u001b[0;34m]\u001b[0m\u001b[0;34m\u001b[0m\u001b[0;34m\u001b[0m\u001b[0m\n\u001b[1;32m      6\u001b[0m     \u001b[0;32mfor\u001b[0m \u001b[0mi\u001b[0m \u001b[0;32min\u001b[0m \u001b[0mvf\u001b[0m\u001b[0;34m:\u001b[0m\u001b[0;34m\u001b[0m\u001b[0;34m\u001b[0m\u001b[0m\n\u001b[0;32m----> 7\u001b[0;31m         \u001b[0mintegrales\u001b[0m\u001b[0;34m.\u001b[0m\u001b[0mappend\u001b[0m\u001b[0;34m(\u001b[0m\u001b[0mscipy\u001b[0m\u001b[0;34m.\u001b[0m\u001b[0mintegrate\u001b[0m\u001b[0;34m.\u001b[0m\u001b[0mtrapz\u001b[0m\u001b[0;34m(\u001b[0m\u001b[0mmodelSv\u001b[0m\u001b[0;34m(\u001b[0m\u001b[0mz\u001b[0m\u001b[0;34m,\u001b[0m\u001b[0mTvariable\u001b[0m\u001b[0;34m,\u001b[0m\u001b[0mM_\u001b[0m\u001b[0;34m,\u001b[0m\u001b[0md_\u001b[0m\u001b[0;34m,\u001b[0m\u001b[0mi\u001b[0m\u001b[0;34m)\u001b[0m\u001b[0;34m*\u001b[0m\u001b[0;34m(\u001b[0m\u001b[0mTvariable\u001b[0m\u001b[0;34m)\u001b[0m\u001b[0;34m**\u001b[0m\u001b[0;34m-\u001b[0m\u001b[0;36m7\u001b[0m\u001b[0;34m,\u001b[0m\u001b[0mx\u001b[0m\u001b[0;34m=\u001b[0m\u001b[0mTvariable\u001b[0m\u001b[0;34m)\u001b[0m\u001b[0;34m)\u001b[0m\u001b[0;34m\u001b[0m\u001b[0;34m\u001b[0m\u001b[0m\n\u001b[0m\u001b[1;32m      8\u001b[0m     \u001b[0;32mreturn\u001b[0m \u001b[0mintegrales\u001b[0m\u001b[0;34m\u001b[0m\u001b[0;34m\u001b[0m\u001b[0m\n",
      "\u001b[0;32m<ipython-input-199-35c2ed093336>\u001b[0m in \u001b[0;36mmodelSv\u001b[0;34m(z, T, M_, d_, vf)\u001b[0m\n\u001b[1;32m      5\u001b[0m     \u001b[0mM\u001b[0m\u001b[0;34m=\u001b[0m\u001b[0mMsun\u001b[0m\u001b[0;34m*\u001b[0m\u001b[0;34m(\u001b[0m\u001b[0;36m10\u001b[0m\u001b[0;34m**\u001b[0m\u001b[0mM_\u001b[0m\u001b[0;34m)\u001b[0m\u001b[0;34m\u001b[0m\u001b[0;34m\u001b[0m\u001b[0m\n\u001b[1;32m      6\u001b[0m     \u001b[0md\u001b[0m\u001b[0;34m=\u001b[0m\u001b[0md_\u001b[0m\u001b[0;34m\u001b[0m\u001b[0;34m\u001b[0m\u001b[0m\n\u001b[0;32m----> 7\u001b[0;31m     \u001b[0mO\u001b[0m\u001b[0;34m=\u001b[0m\u001b[0mnp\u001b[0m\u001b[0;34m.\u001b[0m\u001b[0mpi\u001b[0m\u001b[0;34m*\u001b[0m\u001b[0;34m(\u001b[0m\u001b[0md\u001b[0m\u001b[0;34m/\u001b[0m\u001b[0;36m2\u001b[0m\u001b[0;34m)\u001b[0m\u001b[0;34m**\u001b[0m\u001b[0;36m2\u001b[0m \u001b[0;34m*\u001b[0m \u001b[0;34m(\u001b[0m\u001b[0mD\u001b[0m\u001b[0;34m**\u001b[0m\u001b[0;34m-\u001b[0m\u001b[0;36m2\u001b[0m\u001b[0;34m)\u001b[0m\u001b[0;34m\u001b[0m\u001b[0;34m\u001b[0m\u001b[0m\n\u001b[0m\u001b[1;32m      8\u001b[0m     \u001b[0mS_\u001b[0m\u001b[0;34m=\u001b[0m\u001b[0mO\u001b[0m\u001b[0;34m*\u001b[0m\u001b[0;34m(\u001b[0m\u001b[0;36m1\u001b[0m\u001b[0;34m-\u001b[0m\u001b[0mnp\u001b[0m\u001b[0;34m.\u001b[0m\u001b[0me\u001b[0m\u001b[0;34m**\u001b[0m\u001b[0;34m-\u001b[0m\u001b[0mtau\u001b[0m\u001b[0;34m(\u001b[0m\u001b[0mz\u001b[0m\u001b[0;34m,\u001b[0m\u001b[0mM_\u001b[0m\u001b[0;34m,\u001b[0m\u001b[0md_\u001b[0m\u001b[0;34m,\u001b[0m\u001b[0mvf\u001b[0m\u001b[0;34m)\u001b[0m\u001b[0;34m)\u001b[0m\u001b[0;34m*\u001b[0m\u001b[0mP\u001b[0m\u001b[0;34m(\u001b[0m\u001b[0mvf\u001b[0m\u001b[0;34m,\u001b[0m\u001b[0mT\u001b[0m\u001b[0;34m,\u001b[0m\u001b[0mz\u001b[0m\u001b[0;34m)\u001b[0m\u001b[0;34m\u001b[0m\u001b[0;34m\u001b[0m\u001b[0m\n\u001b[1;32m      9\u001b[0m     \u001b[0mS\u001b[0m\u001b[0;34m=\u001b[0m\u001b[0mS_\u001b[0m\u001b[0;34m.\u001b[0m\u001b[0mto\u001b[0m\u001b[0;34m(\u001b[0m\u001b[0;34m\"mJy\"\u001b[0m\u001b[0;34m)\u001b[0m\u001b[0;34m\u001b[0m\u001b[0;34m\u001b[0m\u001b[0m\n",
      "\u001b[0;32m/opt/anaconda3/lib/python3.7/site-packages/astropy/units/quantity.py\u001b[0m in \u001b[0;36m__pow__\u001b[0;34m(self, other)\u001b[0m\n\u001b[1;32m   1009\u001b[0m                                   self.unit ** other)\n\u001b[1;32m   1010\u001b[0m \u001b[0;34m\u001b[0m\u001b[0m\n\u001b[0;32m-> 1011\u001b[0;31m         \u001b[0;32mreturn\u001b[0m \u001b[0msuper\u001b[0m\u001b[0;34m(\u001b[0m\u001b[0;34m)\u001b[0m\u001b[0;34m.\u001b[0m\u001b[0m__pow__\u001b[0m\u001b[0;34m(\u001b[0m\u001b[0mother\u001b[0m\u001b[0;34m)\u001b[0m\u001b[0;34m\u001b[0m\u001b[0;34m\u001b[0m\u001b[0m\n\u001b[0m\u001b[1;32m   1012\u001b[0m \u001b[0;34m\u001b[0m\u001b[0m\n\u001b[1;32m   1013\u001b[0m     \u001b[0;31m# other overrides of special functions\u001b[0m\u001b[0;34m\u001b[0m\u001b[0;34m\u001b[0m\u001b[0;34m\u001b[0m\u001b[0m\n",
      "\u001b[0;32m/opt/anaconda3/lib/python3.7/site-packages/astropy/units/quantity.py\u001b[0m in \u001b[0;36m__array_ufunc__\u001b[0;34m(self, function, method, *inputs, **kwargs)\u001b[0m\n\u001b[1;32m    475\u001b[0m         \u001b[0marrays\u001b[0m \u001b[0;34m=\u001b[0m \u001b[0;34m[\u001b[0m\u001b[0;34m]\u001b[0m\u001b[0;34m\u001b[0m\u001b[0;34m\u001b[0m\u001b[0m\n\u001b[1;32m    476\u001b[0m         \u001b[0;32mfor\u001b[0m \u001b[0minput_\u001b[0m\u001b[0;34m,\u001b[0m \u001b[0mconverter\u001b[0m \u001b[0;32min\u001b[0m \u001b[0mzip\u001b[0m\u001b[0;34m(\u001b[0m\u001b[0minputs\u001b[0m\u001b[0;34m,\u001b[0m \u001b[0mconverters\u001b[0m\u001b[0;34m)\u001b[0m\u001b[0;34m:\u001b[0m\u001b[0;34m\u001b[0m\u001b[0;34m\u001b[0m\u001b[0m\n\u001b[0;32m--> 477\u001b[0;31m             \u001b[0minput_\u001b[0m \u001b[0;34m=\u001b[0m \u001b[0mgetattr\u001b[0m\u001b[0;34m(\u001b[0m\u001b[0minput_\u001b[0m\u001b[0;34m,\u001b[0m \u001b[0;34m'value'\u001b[0m\u001b[0;34m,\u001b[0m \u001b[0minput_\u001b[0m\u001b[0;34m)\u001b[0m\u001b[0;34m\u001b[0m\u001b[0;34m\u001b[0m\u001b[0m\n\u001b[0m\u001b[1;32m    478\u001b[0m             \u001b[0marrays\u001b[0m\u001b[0;34m.\u001b[0m\u001b[0mappend\u001b[0m\u001b[0;34m(\u001b[0m\u001b[0mconverter\u001b[0m\u001b[0;34m(\u001b[0m\u001b[0minput_\u001b[0m\u001b[0;34m)\u001b[0m \u001b[0;32mif\u001b[0m \u001b[0mconverter\u001b[0m \u001b[0;32melse\u001b[0m \u001b[0minput_\u001b[0m\u001b[0;34m)\u001b[0m\u001b[0;34m\u001b[0m\u001b[0;34m\u001b[0m\u001b[0m\n\u001b[1;32m    479\u001b[0m \u001b[0;34m\u001b[0m\u001b[0m\n",
      "\u001b[0;32m/opt/anaconda3/lib/python3.7/site-packages/astropy/units/quantity.py\u001b[0m in \u001b[0;36mto_value\u001b[0;34m(self, unit, equivalencies)\u001b[0m\n\u001b[1;32m    693\u001b[0m         \u001b[0;32mreturn\u001b[0m \u001b[0mself\u001b[0m\u001b[0;34m.\u001b[0m\u001b[0m_new_view\u001b[0m\u001b[0;34m(\u001b[0m\u001b[0mself\u001b[0m\u001b[0;34m.\u001b[0m\u001b[0m_to_value\u001b[0m\u001b[0;34m(\u001b[0m\u001b[0munit\u001b[0m\u001b[0;34m,\u001b[0m \u001b[0mequivalencies\u001b[0m\u001b[0;34m)\u001b[0m\u001b[0;34m,\u001b[0m \u001b[0munit\u001b[0m\u001b[0;34m)\u001b[0m\u001b[0;34m\u001b[0m\u001b[0;34m\u001b[0m\u001b[0m\n\u001b[1;32m    694\u001b[0m \u001b[0;34m\u001b[0m\u001b[0m\n\u001b[0;32m--> 695\u001b[0;31m     \u001b[0;32mdef\u001b[0m \u001b[0mto_value\u001b[0m\u001b[0;34m(\u001b[0m\u001b[0mself\u001b[0m\u001b[0;34m,\u001b[0m \u001b[0munit\u001b[0m\u001b[0;34m=\u001b[0m\u001b[0;32mNone\u001b[0m\u001b[0;34m,\u001b[0m \u001b[0mequivalencies\u001b[0m\u001b[0;34m=\u001b[0m\u001b[0;34m[\u001b[0m\u001b[0;34m]\u001b[0m\u001b[0;34m)\u001b[0m\u001b[0;34m:\u001b[0m\u001b[0;34m\u001b[0m\u001b[0;34m\u001b[0m\u001b[0m\n\u001b[0m\u001b[1;32m    696\u001b[0m         \"\"\"\n\u001b[1;32m    697\u001b[0m         \u001b[0mThe\u001b[0m \u001b[0mnumerical\u001b[0m \u001b[0mvalue\u001b[0m\u001b[0;34m,\u001b[0m \u001b[0mpossibly\u001b[0m \u001b[0;32min\u001b[0m \u001b[0ma\u001b[0m \u001b[0mdifferent\u001b[0m \u001b[0munit\u001b[0m\u001b[0;34m.\u001b[0m\u001b[0;34m\u001b[0m\u001b[0;34m\u001b[0m\u001b[0m\n",
      "\u001b[0;31mKeyboardInterrupt\u001b[0m: "
     ]
    },
    {
     "data": {
      "text/plain": [
       "<Figure size 864x648 with 0 Axes>"
      ]
     },
     "metadata": {},
     "output_type": "display_data"
    }
   ],
   "source": [
    "mcmc(ID[0],z_ref,Tc_ref,M_ref,d_ref,frecs0T,errf0T)"
   ]
  },
  {
   "cell_type": "code",
   "execution_count": null,
   "metadata": {},
   "outputs": [],
   "source": [
    "ID[1]"
   ]
  },
  {
   "cell_type": "code",
   "execution_count": 1279,
   "metadata": {},
   "outputs": [],
   "source": [
    "frecs1T=np.array([S3[1],S2[1],S1[1],S870[1],S500[1],S350[1],S250[1],S160[1],S100[1]])\n",
    "errf1T=np.array([errS3[1],errS2[1],errS1[1],errS870[1],errS500[1],errS350[1],errS250[1],errS160[1],errS100[1]])"
   ]
  },
  {
   "cell_type": "code",
   "execution_count": 1280,
   "metadata": {},
   "outputs": [],
   "source": [
    "frecs1=[[S3[1],S2[1],S1[1]],[S870[1],S500[1],S350[1],S250[1],S160[1],S100[1]]]\n",
    "errf1=[[errS3[1],errS2[1],errS1[1]],[errS870[1],errS500[1],errS350[1],errS250[1],errS160[1],errS100[1]]]"
   ]
  },
  {
   "cell_type": "code",
   "execution_count": 1281,
   "metadata": {},
   "outputs": [
    {
     "data": {
      "image/png": "[encoded data removed]",
      "text/plain": [
       "<Figure size 864x648 with 1 Axes>"
      ]
     },
     "metadata": {
      "needs_background": "light"
     },
     "output_type": "display_data"
    }
   ],
   "source": [
    "ml(ID[1],z_ref,Tc_ref,M_ref,d_ref,frecs1T,errf1T)"
   ]
  },
  {
   "cell_type": "code",
   "execution_count": null,
   "metadata": {},
   "outputs": [],
   "source": [
    "mcmc(ID[1],z_ref,Tc_ref,M_ref,d_ref,frecs1T,errf1T)"
   ]
  },
  {
   "cell_type": "code",
   "execution_count": null,
   "metadata": {},
   "outputs": [],
   "source": [
    "ID[2]"
   ]
  },
  {
   "cell_type": "code",
   "execution_count": null,
   "metadata": {},
   "outputs": [],
   "source": [
    "frecs2T=np.array([S3[2],S2[2],S1[2],S870[2],S500[2],S350[2],S250[2],S160[2],S100[2]])\n",
    "errf2T=np.array([errS3[2],errS2[2],errS1[2],errS870[2],errS500[2],errS350[2],errS250[2],errS160[2],errS100[2]])"
   ]
  },
  {
   "cell_type": "code",
   "execution_count": null,
   "metadata": {},
   "outputs": [],
   "source": []
  }
 ],
 "metadata": {
  "kernelspec": {
   "display_name": "Python 3",
   "language": "python",
   "name": "python3"
  }
 },
 "nbformat": 4,
 "nbformat_minor": 4
}
