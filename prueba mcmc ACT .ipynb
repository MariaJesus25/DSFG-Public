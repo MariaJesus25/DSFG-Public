{
 "cells": [
  {
   "cell_type": "code",
   "execution_count": 1,
   "metadata": {},
   "outputs": [],
   "source": [
    "import numpy as np\n",
    "import csv\n",
    "import matplotlib.pyplot as plt\n",
    "import astropy.constants as cte\n",
    "import astropy.units as un\n",
    "import astropy.cosmology\n",
    "from astropy.cosmology import Planck15 as cosmo\n",
    "import emcee\n",
    "import scipy.optimize as op\n",
    "import corner\n",
    "import scipy"
   ]
  },
  {
   "cell_type": "code",
   "execution_count": 2,
   "metadata": {},
   "outputs": [],
   "source": [
    "c=cte.c\n",
    "Msun=cte.M_sun"
   ]
  },
  {
   "cell_type": "code",
   "execution_count": 3,
   "metadata": {},
   "outputs": [],
   "source": [
    "file = open(\"/Users/mariajesusfloresmoraga/Desktop/DSFG/T1 f2.csv\")\n",
    "csvreader = csv.reader(file)\n",
    "header = []\n",
    "header = next(csvreader)\n",
    "\n",
    "rows = []\n",
    "for row in csvreader:\n",
    "        rows.append(row)\n",
    "\n",
    "ID= []\n",
    "\n",
    "v1=[]\n",
    "ev1=[]\n",
    "\n",
    "v2=[]\n",
    "ev2=[]\n",
    "\n",
    "v3=[]\n",
    "ev3=[]\n",
    "\n",
    "l1=[]\n",
    "el1=[]\n",
    "\n",
    "l2=[]\n",
    "el2=[]\n",
    "\n",
    "l3=[]\n",
    "el3=[]\n",
    "\n",
    "\n",
    "for j in rows:   \n",
    "    \n",
    "    ID.append(j[0])\n",
    "    \n",
    "    v1.append(float(j[3]))\n",
    "    ev1.append(float(j[4]))\n",
    "    v2.append(float(j[5]))\n",
    "    ev2.append(float(j[6]))\n",
    "    v3.append(float(j[7]))\n",
    "    ev3.append(float(j[8]))\n",
    "    l1.append(float(j[9]))\n",
    "    el1.append(float(j[10]))\n",
    "    l2.append(float(j[11]))\n",
    "    el2.append(float(j[12]))\n",
    "    l3.append(float(j[13]))\n",
    "    el3.append(float(j[14]))\n"
   ]
  },
  {
   "cell_type": "code",
   "execution_count": 4,
   "metadata": {},
   "outputs": [],
   "source": [
    "v_=[148,218,278]*un.GHz\n",
    "l__=[500,350,250]*un.um\n",
    "v=v_.to(\"Hz\").value\n",
    "l_=(c.to(\"um/s\"))/(np.array([500,350,250])*un.um)\n",
    "l=l_.to(\"Hz\").value\n",
    "vf=np.concatenate((v, l))"
   ]
  },
  {
   "cell_type": "code",
   "execution_count": 5,
   "metadata": {},
   "outputs": [],
   "source": [
    "def tau(z,M_,d_,vf): \n",
    "    vf=vf*un.Hz\n",
    "    d_=d_*un.kpc\n",
    "    v0=353*un.GHz\n",
    "    b=2\n",
    "    M=Msun * 10** M_\n",
    "    k0=0.15*(un.m**2/un.kg) \n",
    "    tau=k0*(vf/v0)**b *(z+1)**b * M/(np.pi*(d_/2)**2)\n",
    "    return tau.to(\"\")"
   ]
  },
  {
   "cell_type": "code",
   "execution_count": 6,
   "metadata": {},
   "outputs": [],
   "source": [
    "def P(vf,T,z):\n",
    "    vf=vf*un.Hz\n",
    "    T=T*un.K\n",
    "    h=cte.h\n",
    "    K=cte.k_B\n",
    "    A=2*h/(c**2)\n",
    "    a=(h*vf*(1+z)/(K*T))\n",
    "    B=vf**3/(np.e**(a.value) -1)\n",
    "    P=(A*B).to(\"mJy\")\n",
    "    return P"
   ]
  },
  {
   "cell_type": "code",
   "execution_count": 7,
   "metadata": {},
   "outputs": [],
   "source": [
    "def modelSv(vf,z,T,M_,d_):\n",
    "    \n",
    "    b=2\n",
    "    v0=353*un.GHz\n",
    "    D=cosmo.angular_diameter_distance(z)\n",
    "    M=Msun*(10**M_)\n",
    "    \n",
    "    TAU=tau(z,M_,d_,vf)\n",
    "    PL=P(vf,T,z)\n",
    "    \n",
    "    vf=vf*un.Hz\n",
    "    T=T*un.K\n",
    "    d_=d_*un.kpc\n",
    "    \n",
    "    O=np.pi*(d_/2)**2 * (D**-2)\n",
    "    \n",
    "    S_=O*(1-np.e**-TAU)*PL\n",
    "    S=S_.to(\"mJy\")\n",
    "    return S.value"
   ]
  },
  {
   "cell_type": "code",
   "execution_count": 8,
   "metadata": {},
   "outputs": [],
   "source": [
    "def A(z,Tc,M_,d_,vf): \n",
    "\n",
    "\n",
    "    v0=353*un.GHz\n",
    "    b=2\n",
    "    \n",
    "    Tc=Tc*un.K\n",
    "    Tvariable=(np.linspace(Tc.value,1000,10000)) *un.K\n",
    "    \n",
    "    integrales=[]\n",
    "    \n",
    "    for i in vf:\n",
    "        ARG = modelSv(i,z,Tvariable,M_,d_)*un.mJy *(Tvariable)**-7\n",
    "        integrales.append(scipy.integrate.trapz(ARG,x=Tvariable))\n",
    "    \n",
    "    return integrales"
   ]
  },
  {
   "cell_type": "code",
   "execution_count": 9,
   "metadata": {},
   "outputs": [],
   "source": [
    "def modelSobs(vf,z,Tc,M_,d_): #Como SPT no entrega Tc tomamos Tc= T-10]\n",
    "    \n",
    "    b=2\n",
    "    v0=353*un.GHz\n",
    "    D=cosmo.angular_diameter_distance(z)\n",
    "    TCMB=2.725*un.K\n",
    "    \n",
    "    INTEGRAL=A(z,Tc,M_,d_,vf)\n",
    "    TAU=tau(z,M_,d_,vf)\n",
    "    \n",
    "    h=cte.h\n",
    "    K=cte.k_B\n",
    "    vf=vf*un.Hz\n",
    "    d_=d_*un.kpc\n",
    "    Tc=Tc*un.K\n",
    "    O=np.pi*(d_/2)**2 * (D**-2)\n",
    "    model_=[]\n",
    "    for j in range(len(vf)):\n",
    "        M1=6 * Tc**6 * INTEGRAL[j]\n",
    "    \n",
    "        M2=O * np.e**-TAU * (2*h)/(c**2) * (vf[j]**3)/(np.e**(h*vf[j]/(K*TCMB))-1)\n",
    "        model_.append(((M1+M2)[0]).value)\n",
    "        \n",
    "    model=model_*un.mJy\n",
    "\n",
    "    return model.value"
   ]
  },
  {
   "cell_type": "code",
   "execution_count": 10,
   "metadata": {},
   "outputs": [],
   "source": [
    "def ml_S(ID,frecsT): #Single\n",
    "    x = np.linspace(90,3000,100)*un.GHz\n",
    "    x = x.to(\"Hz\")\n",
    "    x = x.value\n",
    "    \n",
    "    popt,pconv = scipy.optimize.curve_fit(modelSv,vf,frecsT,[3.,50.,10.,4.],bounds=([1,10,8,2],[10,100,11,4])) \n",
    "    \n",
    "    z_fit,T_fit,M_fit,d_fit = popt\n",
    "    \n",
    "    plt.figure(figsize=(12,9))\n",
    "\n",
    "    pm = [z_fit,T_fit,M_fit,d_fit]\n",
    "\n",
    "    y = modelSv(x,pm[0],pm[1],pm[2],pm[3])\n",
    "\n",
    "    plt.plot(x,y,label=\"MaxL\")\n",
    "    plt.plot(vf,np.array(frecsT),marker=\"o\",label=\"Data\")\n",
    "    plt.xscale(\"log\")\n",
    "    plt.yscale(\"log\")\n",
    "    plt.annotate(r\"$z:{},T:{},M:{},d:{}$\".format(np.round(z_fit,2),np.round(T_fit,2),np.round(M_fit,2),np.round(d_fit,2)),(5*10**11,5),fontsize=14)\n",
    "\n",
    "    plt.ylabel(\"Flux (mJy)\",fontsize=14)\n",
    "    plt.xlabel(\"Frequency (Hz)\",fontsize=14)\n",
    "    plt.title(\"MaxL: {}\".format(ID),fontsize=14)\n",
    "    plt.legend()"
   ]
  },
  {
   "cell_type": "code",
   "execution_count": 11,
   "metadata": {},
   "outputs": [],
   "source": [
    "def ml_PL_lim(ID,frecsT): #PL\n",
    "    x = np.linspace(90,3000,100)*un.GHz\n",
    "    x = x.to(\"Hz\")\n",
    "    x = x.value\n",
    "    \n",
    "    popt,pconv = scipy.optimize.curve_fit(modelSobs,vf,frecsT,[3.,35,10.,4.],bounds=([1,20,8,2],[10,50,11,4]))\n",
    "    \n",
    "    z_fit,T_fit,M_fit,d_fit = popt\n",
    "    \n",
    "    popt\n",
    "    \n",
    "    plt.figure(figsize=(12,9))\n",
    "\n",
    "\n",
    "        \n",
    "    pm = [z_fit,T_fit,M_fit,d_fit]\n",
    "\n",
    "    y  = modelSobs(x,pm[0],pm[1],pm[2],pm[3])\n",
    "    \n",
    "    \n",
    "\n",
    "    plt.plot(x,y,label=\"MaxL\")\n",
    "    plt.plot(vf,np.array(frecsT),marker=\"o\",label=\"Data\")\n",
    "    plt.xscale(\"log\")\n",
    "    plt.yscale(\"log\")\n",
    "    plt.annotate(r\"$z:{},T:{},M:{},d:{}$\".format(np.round(z_fit,2),np.round(T_fit,2),np.round(M_fit,2),np.round(d_fit,2)),(5*10**11,5),fontsize=14)\n",
    "\n",
    "    plt.ylabel(\"Flux (mJy)\",fontsize=14)\n",
    "    plt.xlabel(\"Frequency (Hz)\",fontsize=14)\n",
    "    plt.title(\"MaxL: {}\".format(ID),fontsize=14)\n",
    "    plt.legend()"
   ]
  },
  {
   "cell_type": "code",
   "execution_count": 12,
   "metadata": {},
   "outputs": [],
   "source": [
    "def ml_PL_nolim(ID,frecsT): #PL\n",
    "    x = np.linspace(90,3000,100)*un.GHz\n",
    "    x = x.to(\"Hz\")\n",
    "    x = x.value\n",
    "    \n",
    "    popt,pconv = scipy.optimize.curve_fit(modelSobs,vf,frecsT,[3.,47,10.,4.],bounds=([1,10,8,2],[10,100,11,4]))\n",
    "    \n",
    "    z_fit,T_fit,M_fit,d_fit = popt\n",
    "    \n",
    "    popt\n",
    "    \n",
    "    plt.figure(figsize=(12,9))\n",
    "\n",
    "\n",
    "        \n",
    "    pm = [z_fit,T_fit,M_fit,d_fit]\n",
    "\n",
    "    y  = modelSobs(x,pm[0],pm[1],pm[2],pm[3])\n",
    "    \n",
    "    \n",
    "\n",
    "    plt.plot(x,y,label=\"MaxL\")\n",
    "    plt.plot(vf,np.array(frecsT),marker=\"o\",label=\"Data\")\n",
    "    plt.xscale(\"log\")\n",
    "    plt.yscale(\"log\")\n",
    "    plt.annotate(r\"$z:{},T:{},M:{},d:{}$\".format(np.round(z_fit,2),np.round(T_fit,2),np.round(M_fit,2),np.round(d_fit,2)),(5*10**11,5),fontsize=14)\n",
    "\n",
    "    plt.ylabel(\"Flux (mJy)\",fontsize=14)\n",
    "    plt.xlabel(\"Frequency (Hz)\",fontsize=14)\n",
    "    plt.title(\"MaxL: {}\".format(ID),fontsize=14)\n",
    "    plt.legend()"
   ]
  },
  {
   "cell_type": "code",
   "execution_count": 13,
   "metadata": {},
   "outputs": [],
   "source": [
    "def lnlike(theta,x,y,yerr,model):\n",
    "    z,T,M_,d_ = theta\n",
    "    y=np.array(y)\n",
    "    yerr=np.array(yerr)\n",
    "    Sv = modelSv(x,z,T,M_,d_)\n",
    "    Sobs = modelSobs(x,z,T,M_,d_)\n",
    "    x = x*un.Hz\n",
    "    if model==\"S\": \n",
    "        inv_sigma2 = 1.0 / (yerr**2 + (Sv)**2 * np.exp(2*-1))\n",
    "        lnlike= -0.5 * np.sum((y-(Sv))**2*inv_sigma2 - np.log(inv_sigma2))\n",
    "    else: \n",
    "        inv_sigma2 = 1.0 / (yerr**2 + (Sobs)**2 * np.exp(2*-1))\n",
    "        lnlike= -0.5 * np.sum((y-(Sobs))**2*inv_sigma2 - np.log(inv_sigma2))\n",
    "        \n",
    "    return lnlike\n",
    "        "
   ]
  },
  {
   "cell_type": "code",
   "execution_count": 14,
   "metadata": {},
   "outputs": [],
   "source": [
    "def lnprior(theta,model):\n",
    "    z,T,M,d = theta\n",
    "    if T>0 and z>0 and M>0 and d>0:\n",
    "        pM= -1 * (M - 9.4)**2 / (0.24 *10**2) #prior M (sacado de Su)\n",
    "        pZ= -1 * (z - 3)**2 / (1 * 10**2) #prior Z \n",
    "        pd= -1 * (d - 4)**2 / (2 * 10**2) #prior T\n",
    "        if model==\"S\":\n",
    "            pT= -1 * (T - 55)**2 / (10 * 10**2) #prior T\n",
    "        if model==\"PL nolim\":\n",
    "            pT= -1 * (T - 55)**2 / (10 * 10**2) #prior Tc (como Tc=T-10, automaticamente restamos 10)\n",
    "        if model==\"PL lim\":\n",
    "            pT= -1 * ((T-10) - 35)**2 / (5 * 10**2) #prior Tc\n",
    "        return pM+pZ+pd+pT\n",
    "    return -np.inf"
   ]
  },
  {
   "cell_type": "code",
   "execution_count": 15,
   "metadata": {},
   "outputs": [],
   "source": [
    "def lnprob(theta, x, y, yerr,model):\n",
    "    lp = lnprior(theta,model)\n",
    "    if not(np.isfinite(lp)):\n",
    "        return -np.inf\n",
    "    return lp + lnlike(theta, x, y, yerr,model)"
   ]
  },
  {
   "cell_type": "code",
   "execution_count": 16,
   "metadata": {},
   "outputs": [],
   "source": [
    "def mcmc_S(ID,frecsT,errfT,model): #recibe con unidades\n",
    "    \n",
    "    x = np.linspace(90,3000,6)*un.GHz\n",
    "    x = x.to(\"Hz\")\n",
    "    x = x.value\n",
    "    \n",
    "    \n",
    "    theta,pconv = scipy.optimize.curve_fit(modelSv,vf,frecsT,[3.,50.,10.,4.],bounds=([1,10,8,2],[10,100,11,4]))\n",
    "    \n",
    "    z_fit,T_fit,M_fit,d_fit = theta\n",
    "    \n",
    "    \n",
    "    plt.figure(figsize=(12,9))\n",
    "\n",
    "\n",
    "        \n",
    "    pm = [z_fit,T_fit,M_fit,d_fit]\n",
    "\n",
    "    y  = modelSv(x,pm[0],pm[1],pm[2],pm[3])\n",
    "\n",
    "    ndim, nwalkers = 4, 1000 # 6000 iteraciones\n",
    "    pos = [theta + 1e-3 * np.random.randn(ndim) for i in range(nwalkers)] \n",
    "    \n",
    "    sampler = emcee.EnsembleSampler(nwalkers, ndim, lnprob ,args=(x,np.array(frecsT),np.array(errfT),model),\n",
    "                                threads=2)\n",
    "    sampler.run_mcmc(pos, 100) #16 chains\n",
    "    samples = sampler.chain[:, 90:, :].reshape((-1, ndim))\n",
    "    \n",
    "    fig = corner.corner(samples,\n",
    "                    labels=[\"z\", \"T\", r\"$M$\", r\"$d$\"],\n",
    "                    quantiles=[0.16, 0.5, 0.84],\n",
    "                    show_titles=True,\n",
    "                    truths=[z_fit,T_fit,M_fit,d_fit])"
   ]
  },
  {
   "cell_type": "code",
   "execution_count": 17,
   "metadata": {},
   "outputs": [],
   "source": [
    "def mcmc_PL_nolim(ID,frecsT): #recibe con unidades\n",
    "\n",
    "    x = np.linspace(90,3000,6)*un.GHz\n",
    "    x = x.to(\"Hz\")\n",
    "    x = x.value\n",
    "    \n",
    "    \n",
    "    theta,pconv = scipy.optimize.curve_fit(modelSobs,vf,frecsT,[3.,50.,10.,4.],bounds=([1,10,8,2],[10,100,11,4]))\n",
    "    \n",
    "    z_fit,T_fit,M_fit,d_fit = theta\n",
    "    \n",
    "    \n",
    "    plt.figure(figsize=(12,9))\n",
    "\n",
    "\n",
    "        \n",
    "    pm = [z_fit,T_fit,M_fit,d_fit]\n",
    "\n",
    "    y  = modelSobs(x,pm[0],pm[1],pm[2],pm[3])\n",
    "\n",
    "    ndim, nwalkers = 4, 1000 # 6000 iteraciones\n",
    "    pos = [theta + 1e-3 * np.random.randn(ndim) for i in range(nwalkers)] \n",
    "    \n",
    "    sampler = emcee.EnsembleSampler(nwalkers, ndim, lnprob ,args=(vf,np.array(frecsT),np.array(errfT),model),\n",
    "                                threads=2)\n",
    "    sampler.run_mcmc(pos, 100) #16 chains\n",
    "    samples = sampler.chain[:, 90:, :].reshape((-1, ndim))\n",
    "    \n",
    "    fig = corner.corner(samples,\n",
    "                    labels=[\"z\", \"T\", r\"$M$\", r\"$d$\"],\n",
    "                    quantiles=[0.16, 0.5, 0.84],\n",
    "                    show_titles=True,\n",
    "                    truths=[z_fit,T_fit,M_fit,d_fit])"
   ]
  },
  {
   "cell_type": "code",
   "execution_count": 18,
   "metadata": {},
   "outputs": [],
   "source": [
    "def mcmc_PL_lim(ID,frecsT): #recibe con unidades\n",
    "\n",
    "    x = np.linspace(90,3000,6)*un.GHz\n",
    "    x = x.to(\"Hz\")\n",
    "    x = x.value\n",
    "    \n",
    "    \n",
    "    theta,pconv = scipy.optimize.curve_fit(modelSobs,vf,frecsT,[3.,35.,10.,4.],bounds=([1,20,8,2],[10,50,11,4]))\n",
    "    \n",
    "    z_fit,T_fit,M_fit,d_fit = theta\n",
    "    \n",
    "    \n",
    "    plt.figure(figsize=(12,9))\n",
    "\n",
    "\n",
    "        \n",
    "    pm = [z_fit,T_fit,M_fit,d_fit]\n",
    "\n",
    "    y  = modelSobs(x,pm[0],pm[1],pm[2],pm[3])\n",
    "\n",
    "    ndim, nwalkers = 4, 1000 # 6000 iteraciones\n",
    "    pos = [theta + 1e-3 * np.random.randn(ndim) for i in range(nwalkers)] \n",
    "    \n",
    "    sampler = emcee.EnsembleSampler(nwalkers, ndim, lnprob ,args=(vf,np.array(frecsT),np.array(errfT),model),\n",
    "                                threads=2)\n",
    "    sampler.run_mcmc(pos, 100) #16 chains\n",
    "    samples = sampler.chain[:, 90:, :].reshape((-1, ndim))\n",
    "    \n",
    "    fig = corner.corner(samples,\n",
    "                    labels=[\"z\", \"T\", r\"$M$\", r\"$d$\"],\n",
    "                    quantiles=[0.16, 0.5, 0.84],\n",
    "                    show_titles=True,\n",
    "                    truths=[z_fit,T_fit,M_fit,d_fit])"
   ]
  },
  {
   "cell_type": "code",
   "execution_count": 19,
   "metadata": {},
   "outputs": [],
   "source": [
    "def test_S_su(ID,frecsT,z_su,T_su,M_su,d_su): #d_su es un valor fijo, porque en la tabla 2 no se enrega d\n",
    "    x = np.linspace(90,3000,100)*un.GHz\n",
    "    x = x.to(\"Hz\")\n",
    "    x = x.value\n",
    "    \n",
    "    \n",
    "    plt.figure(figsize=(12,9))\n",
    "\n",
    "\n",
    "    y  = modelSv(x,z_su,T_su,M_su,d_su)\n",
    "    \n",
    "    \n",
    "\n",
    "    plt.plot(x,y,label=\"Single Su\")\n",
    "    plt.plot(vf,np.array(frecsT),marker=\"o\",label=\"Data\")\n",
    "    plt.xscale(\"log\")\n",
    "    plt.yscale(\"log\")\n",
    "    plt.annotate(r\"$zSu:{},TSu:{},MSu:{},dSu:{}$\".format(np.round(z_su,2),np.round(T_su,2),np.round(M_su,2),np.round(d_su,2)),(10**11,1),fontsize=14)\n",
    "\n",
    "    plt.ylabel(\"Flux (mJy)\",fontsize=14)\n",
    "    plt.xlabel(\"Frequency (Hz)\",fontsize=14)\n",
    "    #plt.title(\"MaxL: {}\".format(ID),fontsize=14)\n",
    "    plt.legend()"
   ]
  },
  {
   "cell_type": "code",
   "execution_count": 20,
   "metadata": {},
   "outputs": [],
   "source": [
    "def test_PL_su(ID,frecsT,z_su,T_su,M_su,d_su): #d_su es un valor fijo, porque en la tabla 2 no se enrega d\n",
    "    x = np.linspace(90,3000,100)*un.GHz\n",
    "    x = x.to(\"Hz\")\n",
    "    x = x.value\n",
    "    \n",
    "    \n",
    "    plt.figure(figsize=(12,9))\n",
    "\n",
    "\n",
    "    y  = modelSobs(x,z_su,T_su,M_su,d_su)\n",
    "    \n",
    "    \n",
    "\n",
    "    plt.plot(x,y,label=\"PL Su\")\n",
    "    plt.plot(vf,np.array(frecsT),marker=\"o\",label=\"Data\")\n",
    "    plt.xscale(\"log\")\n",
    "    plt.yscale(\"log\")\n",
    "    plt.annotate(r\"$zSu:{},TSu:{},MSu:{},dSu:{}$\".format(np.round(z_su,2),np.round(T_su,2),np.round(M_su,2),np.round(d_su,2)),(10**11,1),fontsize=14)\n",
    "\n",
    "    plt.ylabel(\"Flux (mJy)\",fontsize=14)\n",
    "    plt.xlabel(\"Frequency (Hz)\",fontsize=14)\n",
    "    #plt.title(\"MaxL: {}\".format(ID),fontsize=14)\n",
    "    plt.legend()"
   ]
  },
  {
   "cell_type": "markdown",
   "metadata": {},
   "source": [
    "ACT-S J0011-0018"
   ]
  },
  {
   "cell_type": "code",
   "execution_count": 21,
   "metadata": {},
   "outputs": [],
   "source": [
    "frecs0T=[v1[0],v2[0],v3[0],l1[0],l2[0],l3[0]]\n",
    "errf0T=[ev1[0],ev2[0],ev3[0],el1[0],el2[0],el3[0]]"
   ]
  },
  {
   "cell_type": "code",
   "execution_count": 22,
   "metadata": {},
   "outputs": [
    {
     "data": {
      "image/png": "[encoded data removed]",
      "text/plain": [
       "<Figure size 864x648 with 1 Axes>"
      ]
     },
     "metadata": {
      "needs_background": "light"
     },
     "output_type": "display_data"
    }
   ],
   "source": [
    "ml_S(ID[0],frecs0T) #maxima semejanza para Single"
   ]
  },
  {
   "cell_type": "code",
   "execution_count": 23,
   "metadata": {
    "scrolled": false
   },
   "outputs": [
    {
     "data": {
      "image/png": "[encoded data removed]",
      "text/plain": [
       "<Figure size 864x648 with 1 Axes>"
      ]
     },
     "metadata": {
      "needs_background": "light"
     },
     "output_type": "display_data"
    }
   ],
   "source": [
    "ml_PL_nolim(ID[0],frecs0T)  #maxima semejanza para PL sin limites, es decir, modelo sin tomar Tc entre 20 y 50K"
   ]
  },
  {
   "cell_type": "code",
   "execution_count": 24,
   "metadata": {},
   "outputs": [
    {
     "data": {
      "image/png": "[encoded data removed]",
      "text/plain": [
       "<Figure size 864x648 with 1 Axes>"
      ]
     },
     "metadata": {
      "needs_background": "light"
     },
     "output_type": "display_data"
    }
   ],
   "source": [
    "ml_PL_lim(ID[0],frecs0T)  #maxima semejanza para PL con limites, es decir, modelo tomando Tc entre 20 y 50K"
   ]
  },
  {
   "cell_type": "code",
   "execution_count": 25,
   "metadata": {},
   "outputs": [],
   "source": [
    "from datetime import datetime"
   ]
  },
  {
   "cell_type": "code",
   "execution_count": null,
   "metadata": {},
   "outputs": [],
   "source": [
    "startTime=datetime.now()\n",
    "mcmc_S(ID[0],frecs0T,errf0T,\"S\") \n",
    "print(datetime.now()-startTime) #esto dura 40mins en mi pc "
   ]
  },
  {
   "cell_type": "markdown",
   "metadata": {},
   "source": [
    "De aquí en adelante se repiten las funciones en tods las galaxias de ACT."
   ]
  },
  {
   "cell_type": "markdown",
   "metadata": {},
   "source": [
    "ACT-S J0038_0022"
   ]
  },
  {
   "cell_type": "code",
   "execution_count": null,
   "metadata": {},
   "outputs": [],
   "source": [
    "#frecs2T=[v1[2],v2[2],v3[2],l1[2],l2[2],l3[2]]\n",
    "#errf2T=[ev1[2],ev2[2],ev3[2],el1[2],el2[2],el3[2]]"
   ]
  },
  {
   "cell_type": "code",
   "execution_count": null,
   "metadata": {},
   "outputs": [],
   "source": [
    "#ml_S(ID[2],frecs2T)"
   ]
  },
  {
   "cell_type": "code",
   "execution_count": null,
   "metadata": {},
   "outputs": [],
   "source": [
    "#ml_PL_nolim(ID[2],frecs2T)"
   ]
  },
  {
   "cell_type": "code",
   "execution_count": null,
   "metadata": {},
   "outputs": [],
   "source": [
    "#ml_PL_lim(ID[2],frecs2T)"
   ]
  },
  {
   "cell_type": "markdown",
   "metadata": {},
   "source": [
    "ACT-S J0039+0024"
   ]
  },
  {
   "cell_type": "code",
   "execution_count": null,
   "metadata": {},
   "outputs": [],
   "source": [
    "#frecs3T=[v1[3],v2[3],v3[3],l1[3],l2[3],l3[3]]\n",
    "#errf3T=[ev1[3],ev2[3],ev3[3],el1[3],el2[3],el3[3]]"
   ]
  },
  {
   "cell_type": "code",
   "execution_count": null,
   "metadata": {},
   "outputs": [],
   "source": [
    "#ml_S(ID[3],frecs3T)"
   ]
  },
  {
   "cell_type": "code",
   "execution_count": null,
   "metadata": {},
   "outputs": [],
   "source": [
    "#ml_PL_nolim(ID[3],frecs3T)"
   ]
  },
  {
   "cell_type": "code",
   "execution_count": null,
   "metadata": {},
   "outputs": [],
   "source": [
    "#ml_PL_lim(ID[3],frecs3T)"
   ]
  },
  {
   "cell_type": "markdown",
   "metadata": {},
   "source": [
    "ACT-S J0044+0118"
   ]
  },
  {
   "cell_type": "code",
   "execution_count": null,
   "metadata": {},
   "outputs": [],
   "source": [
    "#frecs4T=[v1[4],v2[4],v3[4],l1[4],l2[4],l3[4]]\n",
    "#errf4T=[ev1[4],ev2[4],ev3[4],el1[4],el2[4],el3[4]]"
   ]
  },
  {
   "cell_type": "code",
   "execution_count": null,
   "metadata": {},
   "outputs": [],
   "source": [
    "#ml_S(ID[4],frecs4T)"
   ]
  },
  {
   "cell_type": "code",
   "execution_count": null,
   "metadata": {},
   "outputs": [],
   "source": [
    "#ml_PL_nolim(ID[4],frecs4T)"
   ]
  },
  {
   "cell_type": "code",
   "execution_count": null,
   "metadata": {},
   "outputs": [],
   "source": [
    "#ml_PL_lim(ID[4],frecs4T)"
   ]
  },
  {
   "cell_type": "markdown",
   "metadata": {},
   "source": [
    "ACT-S J0045_0001"
   ]
  },
  {
   "cell_type": "code",
   "execution_count": null,
   "metadata": {},
   "outputs": [],
   "source": [
    "#frecs5T=[v1[5],v2[5],v3[5],l1[5],l2[5],l3[5]]\n",
    "#errf5T=[ev1[5],ev2[5],ev3[5],el1[5],el2[5],el3[5]]"
   ]
  },
  {
   "cell_type": "code",
   "execution_count": null,
   "metadata": {},
   "outputs": [],
   "source": [
    "#ml_S(ID[5],frecs5T)"
   ]
  },
  {
   "cell_type": "code",
   "execution_count": null,
   "metadata": {},
   "outputs": [],
   "source": [
    "#ml_PL_nolim(ID[5],frecs5T)"
   ]
  },
  {
   "cell_type": "code",
   "execution_count": null,
   "metadata": {},
   "outputs": [],
   "source": [
    "#ml_PL_lim(ID[5],frecs5T)"
   ]
  },
  {
   "cell_type": "markdown",
   "metadata": {},
   "source": [
    "ACT-S J0107+0001"
   ]
  },
  {
   "cell_type": "code",
   "execution_count": null,
   "metadata": {},
   "outputs": [],
   "source": [
    "#frecs6T=[v1[6],v2[6],v3[6],l1[6],l2[6],l3[6]]\n",
    "#errf6T=[ev1[6],ev2[6],ev3[6],el1[6],el2[6],el3[6]]"
   ]
  },
  {
   "cell_type": "code",
   "execution_count": null,
   "metadata": {},
   "outputs": [],
   "source": [
    "#ml_S(ID[6],frecs6T)"
   ]
  },
  {
   "cell_type": "code",
   "execution_count": null,
   "metadata": {},
   "outputs": [],
   "source": [
    "#ml_PL_nolim(ID[6],frecs6T)"
   ]
  },
  {
   "cell_type": "code",
   "execution_count": null,
   "metadata": {},
   "outputs": [],
   "source": [
    "#ml_PL_lim(ID[6],frecs6T)"
   ]
  },
  {
   "cell_type": "markdown",
   "metadata": {},
   "source": [
    "ACT-S J0116_0004"
   ]
  },
  {
   "cell_type": "code",
   "execution_count": null,
   "metadata": {},
   "outputs": [],
   "source": [
    "#frecs7T=[v1[7],v2[7],v3[7],l1[7],l2[7],l3[7]]\n",
    "#errf7T=[ev1[7],ev2[7],ev3[7],el1[7],el2[7],el3[7]]"
   ]
  },
  {
   "cell_type": "code",
   "execution_count": null,
   "metadata": {},
   "outputs": [],
   "source": [
    "#ml_S(ID[7],frecs7T)"
   ]
  },
  {
   "cell_type": "code",
   "execution_count": null,
   "metadata": {},
   "outputs": [],
   "source": [
    "#ml_PL_nolim(ID[7],frecs7T)"
   ]
  },
  {
   "cell_type": "code",
   "execution_count": null,
   "metadata": {},
   "outputs": [],
   "source": [
    "#ml_PL_lim(ID[7],frecs7T)"
   ]
  },
  {
   "cell_type": "markdown",
   "metadata": {},
   "source": [
    "ACT-S J0210+0016"
   ]
  },
  {
   "cell_type": "code",
   "execution_count": null,
   "metadata": {},
   "outputs": [],
   "source": [
    "#frecs8T=[v1[8],v2[8],v3[8],l1[8],l2[8],l3[8]]\n",
    "#errf8T=[ev1[8],ev2[8],ev3[8],el1[8],el2[8],el3[8]]"
   ]
  },
  {
   "cell_type": "code",
   "execution_count": null,
   "metadata": {},
   "outputs": [],
   "source": [
    "#ml_S(ID[8],frecs8T)"
   ]
  },
  {
   "cell_type": "code",
   "execution_count": null,
   "metadata": {},
   "outputs": [],
   "source": [
    "#ml_PL_nolim(ID[8],frecs8T)"
   ]
  },
  {
   "cell_type": "code",
   "execution_count": null,
   "metadata": {},
   "outputs": [],
   "source": [
    "#ml_PL_lim(ID[8],frecs8T)"
   ]
  },
  {
   "cell_type": "code",
   "execution_count": null,
   "metadata": {},
   "outputs": [],
   "source": []
  }
 ],
 "metadata": {
  "kernelspec": {
   "display_name": "Python 3",
   "language": "python",
   "name": "python3"
  },
  "language_info": {
   "codemirror_mode": {
    "name": "ipython",
    "version": 3
   },
   "file_extension": ".py",
   "mimetype": "text/x-python",
   "name": "python",
   "nbconvert_exporter": "python",
   "pygments_lexer": "ipython3",
   "version": "3.7.6"
  }
 },
 "nbformat": 4,
 "nbformat_minor": 4
}
