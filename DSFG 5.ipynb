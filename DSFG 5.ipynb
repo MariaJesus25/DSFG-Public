{
 "cells": [
  {
   "cell_type": "code",
   "execution_count": 1,
   "metadata": {},
   "outputs": [],
   "source": [
    "import csv\n",
    "import matplotlib.pyplot as plt\n",
    "import numpy as np\n",
    "import astropy.constants as cte\n",
    "import astropy.units as un\n",
    "import astropy.cosmology\n",
    "from astropy.cosmology import Planck15 as cosmo\n",
    "import emcee\n",
    "import scipy"
   ]
  },
  {
   "cell_type": "code",
   "execution_count": 2,
   "metadata": {},
   "outputs": [],
   "source": [
    "Msun=cte.M_sun\n",
    "c=cte.c"
   ]
  },
  {
   "cell_type": "code",
   "execution_count": 3,
   "metadata": {},
   "outputs": [
    {
     "name": "stdout",
     "output_type": "stream",
     "text": [
      "2997.9245800000003 GHz\n"
     ]
    }
   ],
   "source": [
    "ref= (c/(100*un.um)).to(\"GHz\")\n",
    "print(ref)"
   ]
  },
  {
   "cell_type": "code",
   "execution_count": 4,
   "metadata": {},
   "outputs": [],
   "source": [
    "file = open(\"/Users/mariajesusfloresmoraga/Desktop/DSFG/T1 f2.csv\")\n",
    "csvreader = csv.reader(file)\n",
    "header = []\n",
    "header = next(csvreader)\n",
    "\n",
    "rows = []\n",
    "for row in csvreader:\n",
    "        rows.append(row)\n",
    "\n",
    "ID= []\n",
    "\n",
    "v1=[]\n",
    "ev1=[]\n",
    "\n",
    "v2=[]\n",
    "ev2=[]\n",
    "\n",
    "v3=[]\n",
    "ev3=[]\n",
    "\n",
    "l1=[]\n",
    "el1=[]\n",
    "\n",
    "l2=[]\n",
    "el2=[]\n",
    "\n",
    "l3=[]\n",
    "el3=[]\n",
    "\n",
    "\n",
    "for j in rows:   \n",
    "    \n",
    "    ID.append(j[0])\n",
    "    \n",
    "    v1.append(float(j[3]))\n",
    "    ev1.append(float(j[4]))\n",
    "    v2.append(float(j[5]))\n",
    "    ev2.append(float(j[6]))\n",
    "    v3.append(float(j[7]))\n",
    "    ev3.append(float(j[8]))\n",
    "    l1.append(float(j[9]))\n",
    "    el1.append(float(j[10]))\n",
    "    l2.append(float(j[11]))\n",
    "    el2.append(float(j[12]))\n",
    "    l3.append(float(j[13]))\n",
    "    el3.append(float(j[14]))\n"
   ]
  },
  {
   "cell_type": "code",
   "execution_count": 5,
   "metadata": {},
   "outputs": [],
   "source": [
    "v_=[148,218,278]*un.GHz\n",
    "l__=[500,350,250]*un.um\n",
    "v=v_.to(\"Hz\").value\n",
    "l_=c/(np.array([500,350,250])*un.um)\n",
    "l=l_.to(\"Hz\").value\n",
    "vf=np.concatenate((v, l))"
   ]
  },
  {
   "cell_type": "code",
   "execution_count": 6,
   "metadata": {},
   "outputs": [],
   "source": [
    "frecs0T=[v1[0],v2[0],v3[0],l1[0],l2[0],l3[0]]\n",
    "errf0T=[ev1[0],ev2[0],ev3[0],el1[0],el2[0],el3[0]]"
   ]
  },
  {
   "cell_type": "code",
   "execution_count": 7,
   "metadata": {},
   "outputs": [
    {
     "name": "stdout",
     "output_type": "stream",
     "text": [
      "[ 94.65 120.18  89.41] [7.41 6.33 7.25]\n"
     ]
    }
   ],
   "source": [
    "frecs0=np.array([[v1[0],v2[0],v3[0]],[l1[0],l2[0],l3[0]]])\n",
    "errf0=np.array([[ev1[0],ev2[0],ev3[0]],[el1[0],el2[0],el3[0]]])\n",
    "print(frecs0[1],errf0[1])"
   ]
  },
  {
   "cell_type": "code",
   "execution_count": 8,
   "metadata": {},
   "outputs": [
    {
     "data": {
      "text/plain": [
       "<matplotlib.legend.Legend at 0x1a15855790>"
      ]
     },
     "execution_count": 8,
     "metadata": {},
     "output_type": "execute_result"
    },
    {
     "data": {
      "image/png": "[encoded data removed]",
      "text/plain": [
       "<Figure size 432x288 with 1 Axes>"
      ]
     },
     "metadata": {
      "needs_background": "light"
     },
     "output_type": "display_data"
    }
   ],
   "source": [
    "plt.plot(vf,frecs0T,\"k\")\n",
    "plt.errorbar(v,frecs0[0],errf0[0],marker=\"o\",markersize=8,markerfacecolor='red',c=\"k\",label=\"ACT\")\n",
    "plt.errorbar(l,frecs0[1],errf0[1],marker=\"o\",markersize=8,markerfacecolor='blue',c=\"k\",label=\"Herschel\")\n",
    "plt.xlabel(r\"$\\nu$ [Hz]\",fontsize=14)\n",
    "plt.ylabel(r\"$F_{\\nu} [mJy]$\",fontsize=14)\n",
    "plt.title(\"{}\".format(ID[0]),fontsize=14)\n",
    "plt.xscale(\"log\")\n",
    "plt.yscale(\"log\")\n",
    "plt.legend()"
   ]
  },
  {
   "cell_type": "code",
   "execution_count": 9,
   "metadata": {},
   "outputs": [],
   "source": [
    "def tau(z,M_,d_,vf): \n",
    "    v0=353*un.GHz\n",
    "    b=2\n",
    "    M=Msun * 10** M_\n",
    "    k0=0.15*(un.m**2/un.kg) \n",
    "    tau=k0*(vf/v0)**b *(z+1)**b * M/(np.pi*(d_/2)**2)\n",
    "    return tau.to(\"\")"
   ]
  },
  {
   "cell_type": "code",
   "execution_count": 10,
   "metadata": {},
   "outputs": [],
   "source": [
    "def P(vf,T,z):\n",
    "    h=cte.h\n",
    "    K=cte.k_B\n",
    "    A=2*h/(c**2)\n",
    "    a=(h*vf*(1+z)/(K*T))\n",
    "    B=vf**3/(np.e**(a.value) -1)\n",
    "    P=(A*B).to(\"mJy\")\n",
    "    return P"
   ]
  },
  {
   "cell_type": "code",
   "execution_count": 11,
   "metadata": {},
   "outputs": [
    {
     "data": {
      "text/latex": [
       "$[148,~218,~278,~599.58492,~856.54988,~1199.1698] \\; \\mathrm{GHz}$"
      ],
      "text/plain": [
       "<Quantity [ 148.      ,  218.      ,  278.      ,  599.584916,  856.54988 ,\n",
       "           1199.169832] GHz>"
      ]
     },
     "execution_count": 11,
     "metadata": {},
     "output_type": "execute_result"
    }
   ],
   "source": [
    "(vf*un.Hz).to(\"GHz\")"
   ]
  },
  {
   "cell_type": "code",
   "execution_count": 12,
   "metadata": {},
   "outputs": [],
   "source": [
    "def modelSv(T,z,M_,d_,vf):\n",
    "    v0=353*un.GHz\n",
    "    b=2\n",
    "    D=cosmo.angular_diameter_distance(z)\n",
    "    M=Msun*(10**M_)\n",
    "    d=d_\n",
    "    O=np.pi*(d/2)**2 * (D**-2)\n",
    "    S_=O*(1-np.e**-tau(z,M_,d_,vf))*P(vf,T,z)\n",
    "    Sv=S_.to(\"mJy\")   \n",
    "    return Sv"
   ]
  },
  {
   "cell_type": "code",
   "execution_count": 13,
   "metadata": {},
   "outputs": [
    {
     "data": {
      "text/latex": [
       "$0 \\; \\mathrm{mJy}$"
      ],
      "text/plain": [
       "<Quantity 0. mJy>"
      ]
     },
     "execution_count": 13,
     "metadata": {},
     "output_type": "execute_result"
    }
   ],
   "source": [
    "modelSv(50*un.K,3.3,5,2*un.kpc,100*un.Hz)"
   ]
  },
  {
   "cell_type": "code",
   "execution_count": 27,
   "metadata": {},
   "outputs": [],
   "source": [
    "def A(z,Tc,M_,d_,vf): \n",
    "    v0=353*un.GHz\n",
    "    b=2\n",
    "    Tvariable=np.linspace(Tc,500,10000)\n",
    "    print(Tvariable)\n",
    "    integrales=[]\n",
    "    for i in vf:\n",
    "        #print(\"TAU:\",tau(z,M_,d_,i))\n",
    "        #print(\"PLANCK:\",P(i,Tvariable,z))\n",
    "        #print(\"SINGLE:\",modelSv(Tvariable,z,M_,d_,i))\n",
    "        integrales.append(scipy.integrate.trapz(modelSv(Tvariable,z,M_,d_,i)*Tvariable**-7))\n",
    "    return integrales"
   ]
  },
  {
   "cell_type": "code",
   "execution_count": 15,
   "metadata": {},
   "outputs": [
    {
     "name": "stdout",
     "output_type": "stream",
     "text": [
      "[ 45.9         45.94541454  45.99082908 ... 499.90917092 499.95458546\n",
      " 500.        ]\n"
     ]
    },
    {
     "data": {
      "text/plain": [
       "[<Quantity 2.36630637e-09 mJy>,\n",
       " <Quantity 7.69563331e-09 mJy>,\n",
       " <Quantity 1.41482231e-08 mJy>,\n",
       " <Quantity 4.02295818e-08 mJy>,\n",
       " <Quantity 4.38048479e-08 mJy>,\n",
       " <Quantity 3.6363932e-08 mJy>]"
      ]
     },
     "execution_count": 15,
     "metadata": {},
     "output_type": "execute_result"
    }
   ],
   "source": [
    "A(3.3,45.9,9.45,2.9*un.kpc,vf*un.Hz) #1era galaxia ACT, con vf[i]"
   ]
  },
  {
   "cell_type": "code",
   "execution_count": 34,
   "metadata": {},
   "outputs": [],
   "source": [
    "def modelSobs(z,Tc,M_,d_,vf):\n",
    "    b=2\n",
    "    v0=353*un.GHz\n",
    "    D=cosmo.angular_diameter_distance(z)\n",
    "    TCMB=2.725*un.K\n",
    "    O=np.pi*(d_/2)**2 * (D**-2)\n",
    "    integral=A(z,Tc,M_,d_,vf)\n",
    "    h=cte.h\n",
    "    K=cte.k_B\n",
    "    model=[]\n",
    "    for j in range(6):\n",
    "        model.append(6 * Tc**6 * integral[j]  + O * np.e**-tau(z,M_,d_,v0) * (2*h)/(c**2) * vf**3/(np.e**(h*vf/(K*TCMB))-1))\n",
    "    return model"
   ]
  },
  {
   "cell_type": "code",
   "execution_count": 35,
   "metadata": {},
   "outputs": [
    {
     "name": "stdout",
     "output_type": "stream",
     "text": [
      "[ 45.9         45.94541454  45.99082908 ... 499.90917092 499.95458546\n",
      " 500.        ]\n"
     ]
    },
    {
     "data": {
      "text/plain": [
       "[<Quantity [132.85475725, 132.84467252, 132.82292293, 132.77135071,\n",
       "            132.76956339, 132.76950551] mJy>,\n",
       " <Quantity [431.87440605, 431.86432133, 431.84257174, 431.79099952,\n",
       "            431.78921219, 431.78915432] mJy>,\n",
       " <Quantity [793.91846317, 793.90837845, 793.88662885, 793.83505663,\n",
       "            793.83326931, 793.83321143] mJy>,\n",
       " <Quantity [2257.30001048, 2257.28992576, 2257.26817616, 2257.21660394,\n",
       "            2257.21481662, 2257.21475875] mJy>,\n",
       " <Quantity [2457.9022316 , 2457.89214687, 2457.87039728, 2457.81882506,\n",
       "            2457.81703774, 2457.81697986] mJy>,\n",
       " <Quantity [2040.40484761, 2040.39476289, 2040.3730133 , 2040.32144108,\n",
       "            2040.31965375, 2040.31959588] mJy>]"
      ]
     },
     "execution_count": 35,
     "metadata": {},
     "output_type": "execute_result"
    }
   ],
   "source": [
    "modelSobs(3.3,45.9,9.45,2.9*un.kpc,vf*un.Hz)"
   ]
  },
  {
   "cell_type": "markdown",
   "metadata": {},
   "source": [
    "ACT-S J0011-0018"
   ]
  },
  {
   "cell_type": "code",
   "execution_count": null,
   "metadata": {},
   "outputs": [],
   "source": [
    "z0=3.3\n",
    "M0_=9.45\n",
    "d0_=2.9*un.kpc\n",
    "Tc0=45.9*un.K"
   ]
  },
  {
   "cell_type": "code",
   "execution_count": null,
   "metadata": {},
   "outputs": [],
   "source": [
    "modelSobs(z0,Tc0,x,b,M0_,d0_,vf*un.Hz,353*un.GHz)"
   ]
  },
  {
   "cell_type": "code",
   "execution_count": null,
   "metadata": {},
   "outputs": [],
   "source": []
  }
 ],
 "metadata": {
  "kernelspec": {
   "display_name": "Python 3",
   "language": "python",
   "name": "python3"
  },
  "language_info": {
   "codemirror_mode": {
    "name": "ipython",
    "version": 3
   },
   "file_extension": ".py",
   "mimetype": "text/x-python",
   "name": "python",
   "nbconvert_exporter": "python",
   "pygments_lexer": "ipython3",
   "version": "3.7.6"
  }
 },
 "nbformat": 4,
 "nbformat_minor": 4
}
