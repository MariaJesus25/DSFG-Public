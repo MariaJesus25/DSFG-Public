{
 "cells": [
  {
   "cell_type": "code",
   "execution_count": 1,
   "metadata": {},
   "outputs": [],
   "source": [
    "import csv\n",
    "import matplotlib.pyplot as plt\n",
    "import numpy as np\n",
    "import astropy.constants as cte\n",
    "import astropy.units as un\n",
    "import astropy.cosmology\n",
    "from astropy.cosmology import Planck15 as cosmo"
   ]
  },
  {
   "cell_type": "code",
   "execution_count": 91,
   "metadata": {},
   "outputs": [],
   "source": [
    "c=cte.c\n",
    "c_um=c.to(\"um/s\")\n",
    "c_mm=c.to(\"mm/s\")\n",
    "Msun=cte.M_sun"
   ]
  },
  {
   "cell_type": "code",
   "execution_count": 49,
   "metadata": {},
   "outputs": [],
   "source": [
    "file = open(\"/Users/mariajesusfloresmoraga/Desktop/DSFG/SPT.csv\")\n",
    "csvreader = csv.reader(file)\n",
    "header = []\n",
    "header = next(csvreader)\n",
    "\n",
    "rows = []\n",
    "for row in csvreader:\n",
    "        rows.append(row)\n",
    "\n",
    "ID= []\n",
    "\n",
    "z=[]\n",
    "\n",
    "S3=[]\n",
    "errS3=[]\n",
    "\n",
    "S2=[]\n",
    "errS2=[]\n",
    "\n",
    "S1=[]\n",
    "errS1=[]\n",
    "\n",
    "S870=[]\n",
    "errS870=[]\n",
    "\n",
    "S500=[]\n",
    "errS500=[]\n",
    "\n",
    "S350=[]\n",
    "errS350=[]\n",
    "\n",
    "S250=[]\n",
    "errS250=[]\n",
    "\n",
    "S160=[]\n",
    "errS160=[]\n",
    "\n",
    "S100=[]\n",
    "errS100=[]\n",
    "\n",
    "for j in rows:   \n",
    "    \n",
    "    ID.append(j[0])\n",
    "    z.append(float(j[1]))\n",
    "    S3.append(float(j[2]))\n",
    "    errS3.append(float(j[3]))\n",
    "    S2.append(float(j[4]))\n",
    "    errS2.append(float(j[5]))\n",
    "    S1.append(float(j[6]))\n",
    "    errS1.append(float(j[7]))\n",
    "    S870.append(float(j[8]))\n",
    "    errS870.append(float(j[9]))\n",
    "    S500.append(float(j[10]))\n",
    "    errS500.append(float(j[11]))\n",
    "    S350.append(float(j[12]))\n",
    "    errS350.append(float(j[13]))\n",
    "    S250.append(float(j[14]))\n",
    "    errS250.append(float(j[15]))\n",
    "    S160.append(float(j[16]))\n",
    "    errS160.append(float(j[17]))\n",
    "    S100.append(float(j[18]))\n",
    "    errS100.append(float(j[19]))\n",
    "   "
   ]
  },
  {
   "cell_type": "code",
   "execution_count": 101,
   "metadata": {},
   "outputs": [],
   "source": [
    "v__=np.array([870,500,350,250,160,100])*un.um\n",
    "v_=(c_um/v__).to(\"Hz\")\n",
    "v=v_.to(\"Hz\").value\n",
    "l__=np.array([3,2,1])*un.mm\n",
    "l_=c_mm/(l__)\n",
    "l=l_.to(\"Hz\").value\n",
    "vf=np.concatenate((l,v))"
   ]
  },
  {
   "cell_type": "code",
   "execution_count": null,
   "metadata": {},
   "outputs": [],
   "source": [
    "frecs0T=[S3[0],S2[0],S1[0],S870[0],S500[0],S350[0],S250[0],S160[0],S100[0]]\n",
    "errf0T=[errS3[0],errS2[0],errS1[0],errS870[0],errS500[0],errS350[0],errS250[0],errS160[0],errS100[0]]"
   ]
  },
  {
   "cell_type": "code",
   "execution_count": null,
   "metadata": {},
   "outputs": [],
   "source": [
    "frecs0=[[S3[0],S2[0],S1[0]],[S870[0],S500[0],S350[0],S250[0],S160[0],S100[0]]]\n",
    "errf0=[[errS3[0],errS2[0],errS1[0]],[errS870[0],errS500[0],errS350[0],errS250[0],errS160[0],errS100[0]]]"
   ]
  },
  {
   "cell_type": "code",
   "execution_count": 174,
   "metadata": {},
   "outputs": [
    {
     "data": {
      "image/png": "[encoded data removed]",
      "text/plain": [
       "<Figure size 432x288 with 1 Axes>"
      ]
     },
     "metadata": {
      "needs_background": "light"
     },
     "output_type": "display_data"
    }
   ],
   "source": [
    "plt.plot(vf,frecs0T,\"k\")\n",
    "plt.errorbar(l,frecs0[0],errf0[0],marker=\"o\",markersize=8,markerfacecolor='blue',c=\"k\")\n",
    "plt.errorbar(v,frecs0[1],errf0[1],marker=\"o\",markersize=8,markerfacecolor='blue',c=\"k\")\n",
    "plt.xlabel(r\"$\\nu$ [Hz]\",fontsize=14)\n",
    "plt.ylabel(r\"$F_{\\nu} [mJy]$\",fontsize=14)\n",
    "plt.title(\"{}\".format(ID[0]),fontsize=14)\n",
    "plt.xscale(\"log\")\n",
    "plt.yscale(\"log\")\n",
    "#plt.legend()"
   ]
  },
  {
   "cell_type": "code",
   "execution_count": null,
   "metadata": {},
   "outputs": [],
   "source": [
    "frecs1T=[S3[1],S2[1],S1[1],S870[1],S500[1],S350[1],S250[1],S160[1],S100[1]]\n",
    "errf1T=[errS3[1],errS2[1],errS1[1],errS870[1],errS500[1],errS350[1],errS250[1],errS160[1],errS100[1]]"
   ]
  },
  {
   "cell_type": "code",
   "execution_count": null,
   "metadata": {},
   "outputs": [],
   "source": [
    "frecs1=[[S3[1],S2[1],S1[1]],[S870[1],S500[1],S350[1],S250[1],S160[1],S100[1]]]\n",
    "errf1=[[errS3[1],errS2[1],errS1[1]],[errS870[1],errS500[1],errS350[1],errS250[1],errS160[1],errS100[1]]]"
   ]
  },
  {
   "cell_type": "code",
   "execution_count": 175,
   "metadata": {},
   "outputs": [
    {
     "data": {
      "image/png": "[encoded data removed]",
      "text/plain": [
       "<Figure size 432x288 with 1 Axes>"
      ]
     },
     "metadata": {
      "needs_background": "light"
     },
     "output_type": "display_data"
    }
   ],
   "source": [
    "plt.plot(vf,frecs1T,\"k\")\n",
    "plt.errorbar(l,frecs1[0],errf1[0],marker=\"o\",markersize=8,markerfacecolor='blue',c=\"k\")\n",
    "plt.errorbar(v,frecs1[1],errf1[1],marker=\"o\",markersize=8,markerfacecolor='blue',c=\"k\")\n",
    "plt.xlabel(r\"$\\nu$ [Hz]\",fontsize=14)\n",
    "plt.ylabel(r\"$F_{\\nu} [mJy]$\",fontsize=14)\n",
    "plt.title(\"{}\".format(ID[1]),fontsize=14)\n",
    "plt.xscale(\"log\")\n",
    "plt.yscale(\"log\")\n",
    "#plt.legend()"
   ]
  },
  {
   "cell_type": "code",
   "execution_count": 177,
   "metadata": {},
   "outputs": [],
   "source": [
    "frecs2T=[S3[2],S2[2],S1[2],S870[2],S500[2],S350[2],S250[2],S160[2],S100[2]]\n",
    "errf2T=[errS3[2],errS2[2],errS1[2],errS870[2],errS500[2],errS350[2],errS250[2],errS160[2],errS100[2]]"
   ]
  },
  {
   "cell_type": "code",
   "execution_count": 178,
   "metadata": {},
   "outputs": [],
   "source": [
    "frecs2=[[S3[2],S2[2],S1[2]],[S870[2],S500[2],S350[2],S250[2],S160[2],S100[2]]]\n",
    "errf2=[[errS3[2],errS2[2],errS1[2]],[errS870[2],errS500[2],errS350[2],errS250[2],errS160[2],errS100[2]]]"
   ]
  },
  {
   "cell_type": "code",
   "execution_count": 179,
   "metadata": {},
   "outputs": [
    {
     "data": {
      "image/png": "[encoded data removed]",
      "text/plain": [
       "<Figure size 432x288 with 1 Axes>"
      ]
     },
     "metadata": {
      "needs_background": "light"
     },
     "output_type": "display_data"
    }
   ],
   "source": [
    "plt.plot(vf,frecs2T,\"k\")\n",
    "plt.errorbar(l,frecs2[0],errf2[0],marker=\"o\",markersize=8,markerfacecolor='blue',c=\"k\")\n",
    "plt.errorbar(v,frecs2[1],errf2[1],marker=\"o\",markersize=8,markerfacecolor='blue',c=\"k\")\n",
    "plt.xlabel(r\"$\\nu$ [Hz]\",fontsize=14)\n",
    "plt.ylabel(r\"$F_{\\nu} [mJy]$\",fontsize=14)\n",
    "plt.title(\"{}\".format(ID[2]),fontsize=14)\n",
    "plt.xscale(\"log\")\n",
    "plt.yscale(\"log\")\n",
    "#plt.legend()"
   ]
  },
  {
   "cell_type": "code",
   "execution_count": 166,
   "metadata": {},
   "outputs": [],
   "source": [
    "def P(v,T,z):\n",
    "    h=cte.h\n",
    "    K=cte.k_B\n",
    "    A=2*h/(c_**2)\n",
    "    a=(h*v*(1+z)/(K*T))\n",
    "    B=v**3/(np.e**(a.value) -1)\n",
    "    P=(A*B).to(\"mJy\")\n",
    "    return P"
   ]
  },
  {
   "cell_type": "code",
   "execution_count": 117,
   "metadata": {},
   "outputs": [],
   "source": [
    "def model(z,Td,M_,u,P):\n",
    "    DL=cosmo.luminosity_distance(float(z))\n",
    "    print(\"Luminosity distance:{}\".format(DL.to(\"Mpc\")))\n",
    "    M=M_* 10**9 * Msun /(Msun.value)\n",
    "    k0=0.15*un.m**2/un.kg\n",
    "    S_=M*u*(1+z)*k0*P/(DL**2)\n",
    "    S=S_.to(\"mJy\")\n",
    "    return S"
   ]
  },
  {
   "cell_type": "markdown",
   "metadata": {},
   "source": [
    "SPT0002-52"
   ]
  },
  {
   "cell_type": "code",
   "execution_count": 156,
   "metadata": {},
   "outputs": [],
   "source": [
    "z0=z[0]\n",
    "T0=59*un.K\n",
    "M0_=0.96"
   ]
  },
  {
   "cell_type": "code",
   "execution_count": 157,
   "metadata": {},
   "outputs": [
    {
     "name": "stdout",
     "output_type": "stream",
     "text": [
      "[0.25509742 0.38264614 0.76529227 0.87964629 1.53058454 2.18654935\n",
      " 3.06116909 4.7830767  7.65292272] Hz s\n"
     ]
    }
   ],
   "source": [
    "P0=P(vf*un.Hz,T0,z0)"
   ]
  },
  {
   "cell_type": "code",
   "execution_count": 167,
   "metadata": {},
   "outputs": [
    {
     "name": "stdout",
     "output_type": "stream",
     "text": [
      "Luminosity distance:38036.416274034666 Mpc\n"
     ]
    },
    {
     "data": {
      "text/latex": [
       "$[2.9984831 \\times 10^{-32},~6.3083807 \\times 10^{-32},~2.0463824 \\times 10^{-31},~2.5336737 \\times 10^{-31},~5.1977844 \\times 10^{-31},~6.9417211 \\times 10^{-31},~7.3978268 \\times 10^{-31},~4.8480684 \\times 10^{-31},~1.1171877 \\times 10^{-31}] \\; \\mathrm{mJy}$"
      ],
      "text/plain": [
       "<Quantity [2.99848306e-32, 6.30838075e-32, 2.04638239e-31, 2.53367374e-31,\n",
       "           5.19778445e-31, 6.94172108e-31, 7.39782680e-31, 4.84806835e-31,\n",
       "           1.11718770e-31] mJy>"
      ]
     },
     "execution_count": 167,
     "metadata": {},
     "output_type": "execute_result"
    }
   ],
   "source": [
    "model(z0,T0,M0_,5.5,P0)"
   ]
  },
  {
   "cell_type": "code",
   "execution_count": 168,
   "metadata": {},
   "outputs": [
    {
     "name": "stdout",
     "output_type": "stream",
     "text": [
      "Luminosity distance:38036.416274034666 Mpc\n"
     ]
    },
    {
     "data": {
      "text/plain": [
       "<matplotlib.legend.Legend at 0x1525ba6490>"
      ]
     },
     "execution_count": 168,
     "metadata": {},
     "output_type": "execute_result"
    },
    {
     "data": {
      "image/png": "[encoded data removed]",
      "text/plain": [
       "<Figure size 432x288 with 1 Axes>"
      ]
     },
     "metadata": {
      "needs_background": "light"
     },
     "output_type": "display_data"
    }
   ],
   "source": [
    "plt.plot(vf,frecs0T,\"k\")\n",
    "plt.plot(vf,model(z0,T0,M0_,5.5,P0).value,marker=\"o\",ls=\"--\",c=\"k\",label=\"model\")\n",
    "plt.errorbar(l,frecs0[0],errf0[0],marker=\"o\",markersize=8,markerfacecolor='blue',c=\"k\",label=\"datos\")\n",
    "plt.errorbar(v,frecs0[1],errf0[1],marker=\"o\",markersize=8,markerfacecolor='blue',c=\"k\")\n",
    "plt.xlabel(r\"$\\nu$ [Hz]\",fontsize=14)\n",
    "plt.ylabel(r\"$F_{\\nu} [mJy]$\",fontsize=14)\n",
    "plt.title(\"{}\".format(ID[0]),fontsize=14)\n",
    "plt.annotate(r\"$\\mu=5.5, T_{d}=59K$\",(5*10**11,10**-9),fontsize=14)\n",
    "plt.xscale(\"log\")\n",
    "plt.yscale(\"log\")\n",
    "plt.legend()"
   ]
  },
  {
   "cell_type": "markdown",
   "metadata": {},
   "source": [
    "SPT0020-51"
   ]
  },
  {
   "cell_type": "code",
   "execution_count": 164,
   "metadata": {},
   "outputs": [],
   "source": [
    "z1=z[1]\n",
    "T1=50*un.K\n",
    "M1_=1.93"
   ]
  },
  {
   "cell_type": "code",
   "execution_count": 165,
   "metadata": {},
   "outputs": [
    {
     "name": "stdout",
     "output_type": "stream",
     "text": [
      "[ 0.49139026  0.73708539  1.47417079  1.69444918  2.94834158  4.21191654\n",
      "  5.89668315  9.21356743 14.74170789] Hz s\n"
     ]
    }
   ],
   "source": [
    "P1=P(vf*un.Hz,T1,z1)"
   ]
  },
  {
   "cell_type": "code",
   "execution_count": 169,
   "metadata": {},
   "outputs": [
    {
     "name": "stdout",
     "output_type": "stream",
     "text": [
      "Luminosity distance:38036.416274034666 Mpc\n"
     ]
    },
    {
     "data": {
      "text/latex": [
       "$[1.3680592 \\times 10^{-32},~2.6884933 \\times 10^{-32},~6.960871 \\times 10^{-32},~8.010556 \\times 10^{-32},~1.0375011 \\times 10^{-31},~8.2229415 \\times 10^{-32},~4.1346455 \\times 10^{-32},~5.7048179 \\times 10^{-33},~9.2836278 \\times 10^{-35}] \\; \\mathrm{mJy}$"
      ],
      "text/plain": [
       "<Quantity [1.36805923e-32, 2.68849335e-32, 6.96087096e-32, 8.01055595e-32,\n",
       "           1.03750112e-31, 8.22294146e-32, 4.13464547e-32, 5.70481791e-33,\n",
       "           9.28362778e-35] mJy>"
      ]
     },
     "execution_count": 169,
     "metadata": {},
     "output_type": "execute_result"
    }
   ],
   "source": [
    "model(z1,T1,M1_,5.48,P1)"
   ]
  },
  {
   "cell_type": "code",
   "execution_count": 173,
   "metadata": {},
   "outputs": [
    {
     "name": "stdout",
     "output_type": "stream",
     "text": [
      "Luminosity distance:38036.416274034666 Mpc\n"
     ]
    },
    {
     "data": {
      "text/plain": [
       "<matplotlib.legend.Legend at 0x1526873510>"
      ]
     },
     "execution_count": 173,
     "metadata": {},
     "output_type": "execute_result"
    },
    {
     "data": {
      "image/png": "[encoded data removed]",
      "text/plain": [
       "<Figure size 432x288 with 1 Axes>"
      ]
     },
     "metadata": {
      "needs_background": "light"
     },
     "output_type": "display_data"
    }
   ],
   "source": [
    "plt.plot(vf,frecs1T,\"k\")\n",
    "plt.plot(vf,model(z1,T1,M1_,5.48,P1).value,marker=\"o\",ls=\"--\",c=\"k\",label=\"model\")\n",
    "plt.errorbar(l,frecs1[0],errf1[0],marker=\"o\",markersize=8,markerfacecolor='blue',c=\"k\",label=\"datos\")\n",
    "plt.errorbar(v,frecs1[1],errf1[1],marker=\"o\",markersize=8,markerfacecolor='blue',c=\"k\")\n",
    "plt.xlabel(r\"$\\nu$ [Hz]\",fontsize=14)\n",
    "plt.ylabel(r\"$F_{\\nu} [mJy]$\",fontsize=14)\n",
    "plt.title(\"{}\".format(ID[1]),fontsize=14)\n",
    "plt.annotate(r\"$\\mu=5.48, T_{d}=50K$\",(5*10**11,10**-9),fontsize=14)\n",
    "plt.xscale(\"log\")\n",
    "plt.yscale(\"log\")\n",
    "plt.legend()"
   ]
  },
  {
   "cell_type": "markdown",
   "metadata": {},
   "source": [
    "SPT0027-50"
   ]
  },
  {
   "cell_type": "code",
   "execution_count": 183,
   "metadata": {},
   "outputs": [],
   "source": [
    "z2=z[2]\n",
    "T2=52*un.K\n",
    "M2_=2.04"
   ]
  },
  {
   "cell_type": "code",
   "execution_count": 184,
   "metadata": {},
   "outputs": [],
   "source": [
    "P2=P(vf*un.Hz,T2,z2)"
   ]
  },
  {
   "cell_type": "code",
   "execution_count": 185,
   "metadata": {},
   "outputs": [
    {
     "name": "stdout",
     "output_type": "stream",
     "text": [
      "Luminosity distance:30716.19127737982 Mpc\n"
     ]
    },
    {
     "data": {
      "text/latex": [
       "$[2.4137647 \\times 10^{-32},~4.8595272 \\times 10^{-32},~1.3644189 \\times 10^{-31},~1.6123952 \\times 10^{-31},~2.4696123 \\times 10^{-31},~2.365566 \\times 10^{-31},~1.5562162 \\times 10^{-31},~3.7070039 \\times 10^{-32},~1.5088708 \\times 10^{-33}] \\; \\mathrm{mJy}$"
      ],
      "text/plain": [
       "<Quantity [2.41376472e-32, 4.85952718e-32, 1.36441891e-31, 1.61239522e-31,\n",
       "           2.46961234e-31, 2.36556598e-31, 1.55621624e-31, 3.70700395e-32,\n",
       "           1.50887081e-33] mJy>"
      ]
     },
     "execution_count": 185,
     "metadata": {},
     "output_type": "execute_result"
    }
   ],
   "source": [
    "model(z2,T2,M2_,5.49,P2)"
   ]
  },
  {
   "cell_type": "code",
   "execution_count": 187,
   "metadata": {},
   "outputs": [
    {
     "name": "stdout",
     "output_type": "stream",
     "text": [
      "Luminosity distance:30716.19127737982 Mpc\n"
     ]
    },
    {
     "data": {
      "text/plain": [
       "<matplotlib.legend.Legend at 0x152705f2d0>"
      ]
     },
     "execution_count": 187,
     "metadata": {},
     "output_type": "execute_result"
    },
    {
     "data": {
      "image/png": "[encoded data removed]",
      "text/plain": [
       "<Figure size 432x288 with 1 Axes>"
      ]
     },
     "metadata": {
      "needs_background": "light"
     },
     "output_type": "display_data"
    }
   ],
   "source": [
    "plt.plot(vf,frecs2T,\"k\")\n",
    "plt.plot(vf,model(z2,T2,M2_,5.49,P2).value,marker=\"o\",ls=\"--\",c=\"k\",label=\"model\")\n",
    "plt.errorbar(l,frecs2[0],errf2[0],marker=\"o\",markersize=8,markerfacecolor='blue',c=\"k\",label=\"datos\")\n",
    "plt.errorbar(v,frecs2[1],errf2[1],marker=\"o\",markersize=8,markerfacecolor='blue',c=\"k\")\n",
    "plt.xlabel(r\"$\\nu$ [Hz]\",fontsize=14)\n",
    "plt.ylabel(r\"$F_{\\nu} [mJy]$\",fontsize=14)\n",
    "plt.title(\"{}\".format(ID[2]),fontsize=14)\n",
    "plt.annotate(r\"$\\mu=5.49, T_{d}=52K$\",(5*10**11,10**-9),fontsize=14)\n",
    "plt.xscale(\"log\")\n",
    "plt.yscale(\"log\")\n",
    "plt.legend()"
   ]
  },
  {
   "cell_type": "code",
   "execution_count": null,
   "metadata": {},
   "outputs": [],
   "source": []
  }
 ],
 "metadata": {
  "kernelspec": {
   "display_name": "Python 3",
   "language": "python",
   "name": "python3"
  },
  "language_info": {
   "codemirror_mode": {
    "name": "ipython",
    "version": 3
   },
   "file_extension": ".py",
   "mimetype": "text/x-python",
   "name": "python",
   "nbconvert_exporter": "python",
   "pygments_lexer": "ipython3",
   "version": "3.7.6"
  }
 },
 "nbformat": 4,
 "nbformat_minor": 4
}
